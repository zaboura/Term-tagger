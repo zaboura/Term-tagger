{
 "cells": [
  {
   "cell_type": "markdown",
   "metadata": {},
   "source": [
    "<center>\n",
    "    <h1>\n",
    "        Term identification system for a specific domain\n",
    "    </h1>\n",
    "    Rameez Qurashi, Abdelhak Zabour\n",
    "    </center>\n",
    "    "
   ]
  },
  {
   "cell_type": "code",
   "execution_count": 3,
   "metadata": {},
   "outputs": [],
   "source": [
    "# PhraseMatcher.py\n",
    "# import necessary modules\n",
    "\n",
    "from __future__ import unicode_literals, print_function\n",
    "\n",
    "\n",
    "from pathlib import Path\n",
    "from spacy.util import minibatch, compounding\n",
    "from spacy.pipeline import EntityRuler\n",
    "from spacy.lang.en import English\n",
    "from spacy import displacy\n",
    "from collections import Counter\n",
    "from spacy.matcher import PhraseMatcher #import PhraseMatcher class\n",
    "#from nltk.chunk import conlltags2tree, tree2conlltags\n",
    "from pprint import pprint\n",
    "from time import sleep\n",
    "# from progressbar import progressbar\n",
    "from spacy.tokens import Span\n",
    "from spacy.util import minibatch, compounding\n",
    "from collections import Counter\n",
    "\n",
    "import matplotlib.pyplot as plt\n",
    "import nltk\n",
    "import random\n",
    "import plac\n",
    "import warnings\n",
    "import pandas as pd\n",
    "import numpy as np\n",
    "import xlrd\n",
    "import spacy\n",
    "#import en_core_web_sm\n",
    "#import json \n",
    "import re\n",
    "\n",
    "plt.rcParams[\"figure.figsize\"] = (15,10)\n",
    "\n",
    "#nltk.download('punkt')\n",
    "\n",
    "# Language class with the English model 'en_core_web_sm' is loaded\n",
    "nlp = spacy.load('en_core_web_sm')\n",
    "nlp.max_length = 7000000"
   ]
  },
  {
   "cell_type": "markdown",
   "metadata": {},
   "source": [
    "## Read the list of terminology "
   ]
  },
  {
   "cell_type": "code",
   "execution_count": 4,
   "metadata": {},
   "outputs": [],
   "source": [
    "terms_corpus = pd.read_excel('astronomy.xls')"
   ]
  },
  {
   "cell_type": "code",
   "execution_count": 5,
   "metadata": {},
   "outputs": [],
   "source": [
    "# the list containing the pharses to be matched\n",
    "terminology_list = []\n",
    "for term in terms_corpus['key']:\n",
    "    terminology_list.append(term[term.find(':')+2:])"
   ]
  },
  {
   "cell_type": "markdown",
   "metadata": {},
   "source": [
    "## text for training:"
   ]
  },
  {
   "cell_type": "code",
   "execution_count": 6,
   "metadata": {},
   "outputs": [],
   "source": [
    "# read the texts from corpus\n",
    "file = open('corpus/result.txt', encoding  = \"UTF-8\")\n",
    "text = file.read()"
   ]
  },
  {
   "cell_type": "code",
   "execution_count": 7,
   "metadata": {},
   "outputs": [],
   "source": [
    "nlp_rule_based = English()\n",
    "ruler = EntityRuler(nlp_rule_based)"
   ]
  },
  {
   "cell_type": "code",
   "execution_count": 8,
   "metadata": {},
   "outputs": [],
   "source": [
    "# create patterns\n",
    "patterns = []\n",
    "\n",
    "for term in terminology_list:\n",
    "    dct = {}\n",
    "    temp = term.split()\n",
    "    if len(temp) == 1:\n",
    "        dct[\"label\"] = \"AstroTerm\"\n",
    "        dct[\"pattern\"] = temp[0]\n",
    "        patterns.append(dct)\n",
    "    else:\n",
    "        lst = []\n",
    "        for item in temp:\n",
    "            dct_temp = {}\n",
    "            dct_temp[\"lower\"] = item\n",
    "            \n",
    "            lst.append(dct_temp)\n",
    "            \n",
    "        dct[\"label\"] = \"AstroTerm\"\n",
    "        dct[\"pattern\"] = lst\n",
    "        patterns.append(dct)"
   ]
  },
  {
   "cell_type": "code",
   "execution_count": 9,
   "metadata": {},
   "outputs": [],
   "source": [
    "# add patterns and pipe\n",
    "ruler.add_patterns(patterns)\n",
    "nlp_rule_based.add_pipe(ruler)"
   ]
  },
  {
   "cell_type": "code",
   "execution_count": 10,
   "metadata": {},
   "outputs": [],
   "source": [
    "def extract_entities(doc):\n",
    "    dict_new_ents = {}\n",
    "    list_new_ents = []\n",
    "    for ent in doc.ents:\n",
    "        # Only check\n",
    "        if ent.label_ == \"AstroTerm\":\n",
    "            \n",
    "            \n",
    "            list_new_ents.append((ent.start_char, ent.end_char, ent.label_))      \n",
    "    \n",
    "    dict_new_ents['entities'] = list_new_ents\n",
    "            \n",
    "    return (doc.text,dict_new_ents )\n"
   ]
  },
  {
   "cell_type": "code",
   "execution_count": 13,
   "metadata": {},
   "outputs": [],
   "source": [
    "# generate annotated data\n",
    "train_data = []\n",
    "for doc in nltk.tokenize.sent_tokenize(text):\n",
    "    doc = nlp_rule_based(doc)\n",
    "    train_data.append(extract_entities(doc))"
   ]
  },
  {
   "cell_type": "code",
   "execution_count": 25,
   "metadata": {},
   "outputs": [],
   "source": [
    "import json\n",
    "\n",
    "with open('train_data.json', 'w') as f:\n",
    "    json.dump(train_data, f)"
   ]
  },
  {
   "cell_type": "code",
   "execution_count": 11,
   "metadata": {},
   "outputs": [],
   "source": [
    "# colors = {\"ASTROTERM\": \"linear-gradient(90deg, #aa9cfc, #fc9ce7)\"}\n",
    "# options = {\"ents\": [\"ASTROTERM\"], \"colors\": colors}\n",
    "# displacy.render(doc, style=\"ent\", options = options)"
   ]
  },
  {
   "cell_type": "markdown",
   "metadata": {},
   "source": [
    "## Neural Network approach:"
   ]
  },
  {
   "cell_type": "code",
   "execution_count": 12,
   "metadata": {},
   "outputs": [
    {
     "name": "stdout",
     "output_type": "stream",
     "text": [
      "Loading from output_dir\n"
     ]
    }
   ],
   "source": [
    "# upload the saved model\n",
    "output_dir = \"output_dir\"\n",
    "print(\"Loading from\", output_dir)\n",
    "nlp_seq = spacy.load(output_dir)"
   ]
  },
  {
   "cell_type": "code",
   "execution_count": 18,
   "metadata": {},
   "outputs": [],
   "source": [
    "# text test\n",
    "text_test = input(\"Enter your testing text: \")"
   ]
  },
  {
   "cell_type": "code",
   "execution_count": 15,
   "metadata": {},
   "outputs": [],
   "source": [
    "# test_text\n",
    "file = open('test_corpus/text09.txt')\n",
    "text_test = file.read()"
   ]
  },
  {
   "cell_type": "markdown",
   "metadata": {},
   "source": [
    "## Comparison between two approaches"
   ]
  },
  {
   "cell_type": "code",
   "execution_count": 16,
   "metadata": {
    "cell_style": "split"
   },
   "outputs": [
    {
     "data": {
      "text/plain": [
       "Counter({('dust', 'AstroTerm'): 1,\n",
       "         ('Milky Way galaxy', 'AstroTerm'): 1,\n",
       "         ('Solar System', 'AstroTerm'): 5,\n",
       "         ('orbit', 'AstroTerm'): 2,\n",
       "         ('mass', 'AstroTerm'): 1,\n",
       "         ('Kuiper belt', 'AstroTerm'): 1,\n",
       "         ('giant planet', 'AstroTerm'): 1})"
      ]
     },
     "execution_count": 16,
     "metadata": {},
     "output_type": "execute_result"
    }
   ],
   "source": [
    "# run the neural network model\n",
    "doc = nlp_seq(text_test)\n",
    "entities = [(ent.text, ent.label_) for ent in doc.ents]\n",
    "#print(\"Entities\", entities)\n",
    "counter_nn = Counter(entities)\n",
    "counter_nn"
   ]
  },
  {
   "cell_type": "code",
   "execution_count": 21,
   "metadata": {},
   "outputs": [
    {
     "data": {
      "text/html": [
       "<span class=\"tex2jax_ignore\"><h2 style=\"margin: 0\">Nueral Network Based Model Performance</h2>\n",
       "\n",
       "<div class=\"entities\" style=\"line-height: 2.5; direction: ltr\">In its youth, our Sun was surrounded by a rotating disk of gas and \n",
       "<mark class=\"entity\" style=\"background: linear-gradient(90deg, #aa9cfc, #fc9ce7); padding: 0.45em 0.6em; margin: 0 0.25em; line-height: 1; border-radius: 0.35em;\">\n",
       "    dust\n",
       "    <span style=\"font-size: 0.8em; font-weight: bold; line-height: 1; border-radius: 0.35em; text-transform: uppercase; vertical-align: middle; margin-left: 0.5rem\">AstroTerm</span>\n",
       "</mark>\n",
       " from which the planets were born. The orbits of early formed planets were thought to be initially close-packed and circular, but gravitational interactions between the larger objects perturbed the arrangement and caused the baby giant planets to rapidly reshuffle, creating the configuration we see today.</br></br>&quot;We now know that there are thousands of planetary systems in our \n",
       "<mark class=\"entity\" style=\"background: linear-gradient(90deg, #aa9cfc, #fc9ce7); padding: 0.45em 0.6em; margin: 0 0.25em; line-height: 1; border-radius: 0.35em;\">\n",
       "    Milky Way galaxy\n",
       "    <span style=\"font-size: 0.8em; font-weight: bold; line-height: 1; border-radius: 0.35em; text-transform: uppercase; vertical-align: middle; margin-left: 0.5rem\">AstroTerm</span>\n",
       "</mark>\n",
       " alone,&quot; Clement said. &quot;But it turns out that the arrangement of planets in our own \n",
       "<mark class=\"entity\" style=\"background: linear-gradient(90deg, #aa9cfc, #fc9ce7); padding: 0.45em 0.6em; margin: 0 0.25em; line-height: 1; border-radius: 0.35em;\">\n",
       "    Solar System\n",
       "    <span style=\"font-size: 0.8em; font-weight: bold; line-height: 1; border-radius: 0.35em; text-transform: uppercase; vertical-align: middle; margin-left: 0.5rem\">AstroTerm</span>\n",
       "</mark>\n",
       " is highly unusual, so we are using models to reverse engineer and replicate its formative processes. This is a bit like trying to figure out what happened in a car crash after the fact -- how fast were the cars going, in what directions, and so on.&quot;</br></br>Clement and his co-authors -- Carnegie's John Chambers, Sean Raymond of the University of Bordeaux, Nathan Kaib of University of Oklahoma, Rogerio Deienno of the Southwest Research Institute, and AndrÃ© Izidoro of Rice University -- conducted 6,000 simulations of our \n",
       "<mark class=\"entity\" style=\"background: linear-gradient(90deg, #aa9cfc, #fc9ce7); padding: 0.45em 0.6em; margin: 0 0.25em; line-height: 1; border-radius: 0.35em;\">\n",
       "    Solar System\n",
       "    <span style=\"font-size: 0.8em; font-weight: bold; line-height: 1; border-radius: 0.35em; text-transform: uppercase; vertical-align: middle; margin-left: 0.5rem\">AstroTerm</span>\n",
       "</mark>\n",
       "'s evolution, revealing an unexpected detail about Jupiter and Saturn's original relationship.</br></br>Jupiter in its infancy was thought to \n",
       "<mark class=\"entity\" style=\"background: linear-gradient(90deg, #aa9cfc, #fc9ce7); padding: 0.45em 0.6em; margin: 0 0.25em; line-height: 1; border-radius: 0.35em;\">\n",
       "    orbit\n",
       "    <span style=\"font-size: 0.8em; font-weight: bold; line-height: 1; border-radius: 0.35em; text-transform: uppercase; vertical-align: middle; margin-left: 0.5rem\">AstroTerm</span>\n",
       "</mark>\n",
       " the Sun three times for every two orbits that Saturn completed. But this arrangement is not able to satisfactorily explain the configuration of the giant planets that we see today. The team's models showed that a ratio of two Jupiter orbits to one Saturnian \n",
       "<mark class=\"entity\" style=\"background: linear-gradient(90deg, #aa9cfc, #fc9ce7); padding: 0.45em 0.6em; margin: 0 0.25em; line-height: 1; border-radius: 0.35em;\">\n",
       "    orbit\n",
       "    <span style=\"font-size: 0.8em; font-weight: bold; line-height: 1; border-radius: 0.35em; text-transform: uppercase; vertical-align: middle; margin-left: 0.5rem\">AstroTerm</span>\n",
       "</mark>\n",
       " more consistently produced results that look like our familiar planetary architecture.</br></br>&quot;This indicates that while our \n",
       "<mark class=\"entity\" style=\"background: linear-gradient(90deg, #aa9cfc, #fc9ce7); padding: 0.45em 0.6em; margin: 0 0.25em; line-height: 1; border-radius: 0.35em;\">\n",
       "    Solar System\n",
       "    <span style=\"font-size: 0.8em; font-weight: bold; line-height: 1; border-radius: 0.35em; text-transform: uppercase; vertical-align: middle; margin-left: 0.5rem\">AstroTerm</span>\n",
       "</mark>\n",
       " is a bit of an oddball, it wasn't always the case,&quot; explained Clement, who is presenting the team's work at the American Astronomical Society's Division for Planetary Sciences virtual meeting today. &quot;What's more, now that we've established the effectiveness of this model, we can use it to help us look at the formation of the terrestrial planets, including our own, and to perhaps inform our ability to look for similar systems elsewhere that could have the potential to host life.&quot;</br></br>The model also showed that the positions of Uranus and Neptune were shaped by the \n",
       "<mark class=\"entity\" style=\"background: linear-gradient(90deg, #aa9cfc, #fc9ce7); padding: 0.45em 0.6em; margin: 0 0.25em; line-height: 1; border-radius: 0.35em;\">\n",
       "    mass\n",
       "    <span style=\"font-size: 0.8em; font-weight: bold; line-height: 1; border-radius: 0.35em; text-transform: uppercase; vertical-align: middle; margin-left: 0.5rem\">AstroTerm</span>\n",
       "</mark>\n",
       " of the \n",
       "<mark class=\"entity\" style=\"background: linear-gradient(90deg, #aa9cfc, #fc9ce7); padding: 0.45em 0.6em; margin: 0 0.25em; line-height: 1; border-radius: 0.35em;\">\n",
       "    Kuiper belt\n",
       "    <span style=\"font-size: 0.8em; font-weight: bold; line-height: 1; border-radius: 0.35em; text-transform: uppercase; vertical-align: middle; margin-left: 0.5rem\">AstroTerm</span>\n",
       "</mark>\n",
       " -- an icy region on the \n",
       "<mark class=\"entity\" style=\"background: linear-gradient(90deg, #aa9cfc, #fc9ce7); padding: 0.45em 0.6em; margin: 0 0.25em; line-height: 1; border-radius: 0.35em;\">\n",
       "    Solar System\n",
       "    <span style=\"font-size: 0.8em; font-weight: bold; line-height: 1; border-radius: 0.35em; text-transform: uppercase; vertical-align: middle; margin-left: 0.5rem\">AstroTerm</span>\n",
       "</mark>\n",
       "'s edges composed of dwarf planets and planetoids of which Pluto is the largest member -- and by an ice \n",
       "<mark class=\"entity\" style=\"background: linear-gradient(90deg, #aa9cfc, #fc9ce7); padding: 0.45em 0.6em; margin: 0 0.25em; line-height: 1; border-radius: 0.35em;\">\n",
       "    giant planet\n",
       "    <span style=\"font-size: 0.8em; font-weight: bold; line-height: 1; border-radius: 0.35em; text-transform: uppercase; vertical-align: middle; margin-left: 0.5rem\">AstroTerm</span>\n",
       "</mark>\n",
       " that was kicked out in the \n",
       "<mark class=\"entity\" style=\"background: linear-gradient(90deg, #aa9cfc, #fc9ce7); padding: 0.45em 0.6em; margin: 0 0.25em; line-height: 1; border-radius: 0.35em;\">\n",
       "    Solar System\n",
       "    <span style=\"font-size: 0.8em; font-weight: bold; line-height: 1; border-radius: 0.35em; text-transform: uppercase; vertical-align: middle; margin-left: 0.5rem\">AstroTerm</span>\n",
       "</mark>\n",
       "'s infancy.</div></span>"
      ],
      "text/plain": [
       "<IPython.core.display.HTML object>"
      ]
     },
     "metadata": {},
     "output_type": "display_data"
    }
   ],
   "source": [
    "colors = {\"ASTROTERM\": \"linear-gradient(90deg, #aa9cfc, #fc9ce7)\"}\n",
    "options = {\"ents\": [\"ASTROTERM\"], \"colors\": colors}\n",
    "doc.user_data[\"title\"] = \"Nueral Network Based Model Performance\"\n",
    "displacy.render(doc, style=\"ent\", options=options)"
   ]
  },
  {
   "cell_type": "code",
   "execution_count": 18,
   "metadata": {
    "cell_style": "split"
   },
   "outputs": [
    {
     "data": {
      "text/plain": [
       "Counter({('dust', 'AstroTerm'): 1,\n",
       "         ('Milky Way galaxy', 'AstroTerm'): 1,\n",
       "         ('Solar System', 'AstroTerm'): 5,\n",
       "         ('orbit', 'AstroTerm'): 2,\n",
       "         ('mass', 'AstroTerm'): 1,\n",
       "         ('Kuiper belt', 'AstroTerm'): 1,\n",
       "         ('giant planet', 'AstroTerm'): 1})"
      ]
     },
     "execution_count": 18,
     "metadata": {},
     "output_type": "execute_result"
    }
   ],
   "source": [
    "# run rule based model\n",
    "doc = nlp_rule_based(text_test)\n",
    "entities = [(ent.text, ent.label_) for ent in doc.ents]\n",
    "#print(\"Entities\", entities)\n",
    "counter = Counter(entities)\n",
    "counter"
   ]
  },
  {
   "cell_type": "code",
   "execution_count": 20,
   "metadata": {},
   "outputs": [
    {
     "data": {
      "text/html": [
       "<span class=\"tex2jax_ignore\"><h2 style=\"margin: 0\">Rule Based Model Performance</h2>\n",
       "\n",
       "<div class=\"entities\" style=\"line-height: 2.5; direction: ltr\">In its youth, our Sun was surrounded by a rotating disk of gas and \n",
       "<mark class=\"entity\" style=\"background: linear-gradient(90deg, #f2e441, #ff8730); padding: 0.45em 0.6em; margin: 0 0.25em; line-height: 1; border-radius: 0.35em;\">\n",
       "    dust\n",
       "    <span style=\"font-size: 0.8em; font-weight: bold; line-height: 1; border-radius: 0.35em; text-transform: uppercase; vertical-align: middle; margin-left: 0.5rem\">AstroTerm</span>\n",
       "</mark>\n",
       " from which the planets were born. The orbits of early formed planets were thought to be initially close-packed and circular, but gravitational interactions between the larger objects perturbed the arrangement and caused the baby giant planets to rapidly reshuffle, creating the configuration we see today.</br></br>&quot;We now know that there are thousands of planetary systems in our \n",
       "<mark class=\"entity\" style=\"background: linear-gradient(90deg, #f2e441, #ff8730); padding: 0.45em 0.6em; margin: 0 0.25em; line-height: 1; border-radius: 0.35em;\">\n",
       "    Milky Way galaxy\n",
       "    <span style=\"font-size: 0.8em; font-weight: bold; line-height: 1; border-radius: 0.35em; text-transform: uppercase; vertical-align: middle; margin-left: 0.5rem\">AstroTerm</span>\n",
       "</mark>\n",
       " alone,&quot; Clement said. &quot;But it turns out that the arrangement of planets in our own \n",
       "<mark class=\"entity\" style=\"background: linear-gradient(90deg, #f2e441, #ff8730); padding: 0.45em 0.6em; margin: 0 0.25em; line-height: 1; border-radius: 0.35em;\">\n",
       "    Solar System\n",
       "    <span style=\"font-size: 0.8em; font-weight: bold; line-height: 1; border-radius: 0.35em; text-transform: uppercase; vertical-align: middle; margin-left: 0.5rem\">AstroTerm</span>\n",
       "</mark>\n",
       " is highly unusual, so we are using models to reverse engineer and replicate its formative processes. This is a bit like trying to figure out what happened in a car crash after the fact -- how fast were the cars going, in what directions, and so on.&quot;</br></br>Clement and his co-authors -- Carnegie's John Chambers, Sean Raymond of the University of Bordeaux, Nathan Kaib of University of Oklahoma, Rogerio Deienno of the Southwest Research Institute, and AndrÃ© Izidoro of Rice University -- conducted 6,000 simulations of our \n",
       "<mark class=\"entity\" style=\"background: linear-gradient(90deg, #f2e441, #ff8730); padding: 0.45em 0.6em; margin: 0 0.25em; line-height: 1; border-radius: 0.35em;\">\n",
       "    Solar System\n",
       "    <span style=\"font-size: 0.8em; font-weight: bold; line-height: 1; border-radius: 0.35em; text-transform: uppercase; vertical-align: middle; margin-left: 0.5rem\">AstroTerm</span>\n",
       "</mark>\n",
       "'s evolution, revealing an unexpected detail about Jupiter and Saturn's original relationship.</br></br>Jupiter in its infancy was thought to \n",
       "<mark class=\"entity\" style=\"background: linear-gradient(90deg, #f2e441, #ff8730); padding: 0.45em 0.6em; margin: 0 0.25em; line-height: 1; border-radius: 0.35em;\">\n",
       "    orbit\n",
       "    <span style=\"font-size: 0.8em; font-weight: bold; line-height: 1; border-radius: 0.35em; text-transform: uppercase; vertical-align: middle; margin-left: 0.5rem\">AstroTerm</span>\n",
       "</mark>\n",
       " the Sun three times for every two orbits that Saturn completed. But this arrangement is not able to satisfactorily explain the configuration of the giant planets that we see today. The team's models showed that a ratio of two Jupiter orbits to one Saturnian \n",
       "<mark class=\"entity\" style=\"background: linear-gradient(90deg, #f2e441, #ff8730); padding: 0.45em 0.6em; margin: 0 0.25em; line-height: 1; border-radius: 0.35em;\">\n",
       "    orbit\n",
       "    <span style=\"font-size: 0.8em; font-weight: bold; line-height: 1; border-radius: 0.35em; text-transform: uppercase; vertical-align: middle; margin-left: 0.5rem\">AstroTerm</span>\n",
       "</mark>\n",
       " more consistently produced results that look like our familiar planetary architecture.</br></br>&quot;This indicates that while our \n",
       "<mark class=\"entity\" style=\"background: linear-gradient(90deg, #f2e441, #ff8730); padding: 0.45em 0.6em; margin: 0 0.25em; line-height: 1; border-radius: 0.35em;\">\n",
       "    Solar System\n",
       "    <span style=\"font-size: 0.8em; font-weight: bold; line-height: 1; border-radius: 0.35em; text-transform: uppercase; vertical-align: middle; margin-left: 0.5rem\">AstroTerm</span>\n",
       "</mark>\n",
       " is a bit of an oddball, it wasn't always the case,&quot; explained Clement, who is presenting the team's work at the American Astronomical Society's Division for Planetary Sciences virtual meeting today. &quot;What's more, now that we've established the effectiveness of this model, we can use it to help us look at the formation of the terrestrial planets, including our own, and to perhaps inform our ability to look for similar systems elsewhere that could have the potential to host life.&quot;</br></br>The model also showed that the positions of Uranus and Neptune were shaped by the \n",
       "<mark class=\"entity\" style=\"background: linear-gradient(90deg, #f2e441, #ff8730); padding: 0.45em 0.6em; margin: 0 0.25em; line-height: 1; border-radius: 0.35em;\">\n",
       "    mass\n",
       "    <span style=\"font-size: 0.8em; font-weight: bold; line-height: 1; border-radius: 0.35em; text-transform: uppercase; vertical-align: middle; margin-left: 0.5rem\">AstroTerm</span>\n",
       "</mark>\n",
       " of the \n",
       "<mark class=\"entity\" style=\"background: linear-gradient(90deg, #f2e441, #ff8730); padding: 0.45em 0.6em; margin: 0 0.25em; line-height: 1; border-radius: 0.35em;\">\n",
       "    Kuiper belt\n",
       "    <span style=\"font-size: 0.8em; font-weight: bold; line-height: 1; border-radius: 0.35em; text-transform: uppercase; vertical-align: middle; margin-left: 0.5rem\">AstroTerm</span>\n",
       "</mark>\n",
       " -- an icy region on the \n",
       "<mark class=\"entity\" style=\"background: linear-gradient(90deg, #f2e441, #ff8730); padding: 0.45em 0.6em; margin: 0 0.25em; line-height: 1; border-radius: 0.35em;\">\n",
       "    Solar System\n",
       "    <span style=\"font-size: 0.8em; font-weight: bold; line-height: 1; border-radius: 0.35em; text-transform: uppercase; vertical-align: middle; margin-left: 0.5rem\">AstroTerm</span>\n",
       "</mark>\n",
       "'s edges composed of dwarf planets and planetoids of which Pluto is the largest member -- and by an ice \n",
       "<mark class=\"entity\" style=\"background: linear-gradient(90deg, #f2e441, #ff8730); padding: 0.45em 0.6em; margin: 0 0.25em; line-height: 1; border-radius: 0.35em;\">\n",
       "    giant planet\n",
       "    <span style=\"font-size: 0.8em; font-weight: bold; line-height: 1; border-radius: 0.35em; text-transform: uppercase; vertical-align: middle; margin-left: 0.5rem\">AstroTerm</span>\n",
       "</mark>\n",
       " that was kicked out in the \n",
       "<mark class=\"entity\" style=\"background: linear-gradient(90deg, #f2e441, #ff8730); padding: 0.45em 0.6em; margin: 0 0.25em; line-height: 1; border-radius: 0.35em;\">\n",
       "    Solar System\n",
       "    <span style=\"font-size: 0.8em; font-weight: bold; line-height: 1; border-radius: 0.35em; text-transform: uppercase; vertical-align: middle; margin-left: 0.5rem\">AstroTerm</span>\n",
       "</mark>\n",
       "'s infancy.</div></span>"
      ],
      "text/plain": [
       "<IPython.core.display.HTML object>"
      ]
     },
     "metadata": {},
     "output_type": "display_data"
    }
   ],
   "source": [
    "colors = {\"ASTROTERM\": \"linear-gradient(90deg, #f2e441, #ff8730)\"}\n",
    "options = {\"ents\": [\"ASTROTERM\"], \"colors\": colors}\n",
    "doc.user_data[\"title\"] = \"Rule Based Model Performance\"\n",
    "displacy.render(doc, style=\"ent\", options=options, jupyter =True)"
   ]
  },
  {
   "cell_type": "code",
   "execution_count": 22,
   "metadata": {},
   "outputs": [],
   "source": [
    "# create list for visualization\n",
    "terms_nn = [[ter, val] for ter, val in zip(counter_nn.keys(),counter_nn.values())]\n",
    "terms_RB = [[ter, val] for ter, val in zip(counter.keys(),counter.values())]"
   ]
  },
  {
   "cell_type": "code",
   "execution_count": 23,
   "metadata": {},
   "outputs": [
    {
     "name": "stderr",
     "output_type": "stream",
     "text": [
      "<ipython-input-23-5ec852f59f8b>:1: VisibleDeprecationWarning: Creating an ndarray from ragged nested sequences (which is a list-or-tuple of lists-or-tuples-or ndarrays with different lengths or shapes) is deprecated. If you meant to do this, you must specify 'dtype=object' when creating the ndarray\n",
      "  dfs = [pd.DataFrame(np.array(lst),\n"
     ]
    },
    {
     "data": {
      "image/png": "[encoded data removed]",
      "text/plain": [
       "<Figure size 1080x720 with 1 Axes>"
      ]
     },
     "metadata": {
      "needs_background": "light"
     },
     "output_type": "display_data"
    }
   ],
   "source": [
    "dfs = [pd.DataFrame(np.array(lst), \n",
    "                    columns=['idx', i]).set_index('idx')\n",
    "          for i,lst in zip(['Sequence_tagger', 'Rulebased_tagger'],[terms_nn,terms_RB])]\n",
    "\n",
    "df = pd.concat(dfs, axis=1)\n",
    "\n",
    "ax = df.plot.bar()"
   ]
  },
  {
   "cell_type": "code",
   "execution_count": null,
   "metadata": {},
   "outputs": [],
   "source": []
  }
 ],
 "metadata": {
  "kernelspec": {
   "display_name": "Python 3",
   "language": "python",
   "name": "python3"
  },
  "language_info": {
   "codemirror_mode": {
    "name": "ipython",
    "version": 3
   },
   "file_extension": ".py",
   "mimetype": "text/x-python",
   "name": "python",
   "nbconvert_exporter": "python",
   "pygments_lexer": "ipython3",
   "version": "3.8.3"
  },
  "toc": {
   "base_numbering": 1,
   "nav_menu": {},
   "number_sections": true,
   "sideBar": true,
   "skip_h1_title": false,
   "title_cell": "Table of Contents",
   "title_sidebar": "Contents",
   "toc_cell": false,
   "toc_position": {},
   "toc_section_display": true,
   "toc_window_display": false
  }
 },
 "nbformat": 4,
 "nbformat_minor": 4
}
