{
 "cells": [
  {
   "cell_type": "markdown",
   "metadata": {},
   "source": [
    "<center>\n",
    "    <h1>\n",
    "        term identification system for a specific domain\n",
    "    </h1>\n",
    "    Rameez Qurashi, Abdelhak Zabour\n",
    "    </center>\n",
    "    "
   ]
  },
  {
   "cell_type": "code",
   "execution_count": 28,
   "metadata": {},
   "outputs": [
    {
     "name": "stderr",
     "output_type": "stream",
     "text": [
      "[nltk_data] Downloading package punkt to /Users/abdelhak/nltk_data...\n",
      "[nltk_data]   Package punkt is already up-to-date!\n"
     ]
    }
   ],
   "source": [
    "# PhraseMatcher.py\n",
    "# import necessary modules\n",
    "\n",
    "from __future__ import unicode_literals, print_function\n",
    "\n",
    "\n",
    "from pathlib import Path\n",
    "from spacy.util import minibatch, compounding\n",
    "from spacy.pipeline import EntityRuler\n",
    "from spacy.lang.en import English\n",
    "from spacy import displacy\n",
    "from collections import Counter\n",
    "from spacy.matcher import PhraseMatcher #import PhraseMatcher class\n",
    "from nltk.chunk import conlltags2tree, tree2conlltags\n",
    "from pprint import pprint\n",
    "from time import sleep\n",
    "from progressbar import progressbar\n",
    "from spacy.tokens import Span\n",
    "from spacy.util import minibatch, compounding\n",
    "from collections import Counter\n",
    "\n",
    "import matplotlib.pyplot as plt\n",
    "import nltk\n",
    "import random\n",
    "import plac\n",
    "import warnings\n",
    "import pandas as pd\n",
    "import numpy as np\n",
    "import xlrd\n",
    "import spacy\n",
    "import en_core_web_sm\n",
    "import json \n",
    "import re\n",
    "\n",
    "plt.rcParams[\"figure.figsize\"] = (15,10)\n",
    "\n",
    "nltk.download('punkt')\n",
    "\n",
    "# Language class with the English model 'en_core_web_sm' is loaded\n",
    "nlp = spacy.load('en_core_web_sm')\n",
    "nlp.max_length = 7000000"
   ]
  },
  {
   "cell_type": "code",
   "execution_count": 12,
   "metadata": {},
   "outputs": [],
   "source": [
    "\n",
    "def train_spacy(data, n_iter = 10, load = False, train = False):\n",
    "    \n",
    "    if train:\n",
    "        TRAIN_DATA = data\n",
    "        # load space model\n",
    "        if load:\n",
    "            nlp = spacy.load(\"en_core_web_sm\")\n",
    "        else:\n",
    "            nlp = spacy.blank('en')\n",
    "\n",
    "\n",
    "\n",
    "        if \"ner\" not in nlp.pipe_names:\n",
    "            ner = nlp.create_pipe(\"ner\")\n",
    "            nlp.add_pipe(ner, last=True)\n",
    "        else:\n",
    "            ner = nlp.get_pipe(\"ner\")\n",
    "\n",
    "        # add labels\n",
    "        # for _, annotations in TRAIN_DATA:\n",
    "        #      for ent in annotations.get('entities'):\n",
    "        ner.add_label('AstroTerm')\n",
    "        # get names of other pipes to disable them during training\n",
    "        other_pipes = [pipe for pipe in nlp.pipe_names if pipe != 'ner']\n",
    "\n",
    "        # Resume training\n",
    "        #optimizer = nlp.resume_training()\n",
    "        #move_names = list(ner.move_names)\n",
    "\n",
    "        nlp.begin_training()\n",
    "\n",
    "        # Begin training by disabling other pipeline components\n",
    "        with nlp.disable_pipes(*other_pipes):\n",
    "            # show warnings for misaligned entity spans once\n",
    "            optimizer = nlp.begin_training()\n",
    "\n",
    "            sizes = compounding(1.0, 5.0, 1.001)\n",
    "            # Training for n_iter iterations     \n",
    "            for itn in progressbar(range(n_iter)):\n",
    "                sleep(0.02)\n",
    "            # shuffle examples before training\n",
    "                random.shuffle(TRAIN_DATA)\n",
    "                # batch up the examples using spaCy's minibatch\n",
    "                batches = minibatch(TRAIN_DATA, size=sizes)\n",
    "                # dictionary to store losses\n",
    "                losses = {}\n",
    "                for batch in batches:\n",
    "                    texts, annotations = zip(*batch)\n",
    "                    # Calling update() over the iteration\n",
    "                    nlp.update(texts, annotations, sgd=optimizer, drop=0.25, losses=losses)\n",
    "                    #print(\"Losses\", losses)\n",
    "                    \n",
    "        output_dir = \"output_dir\"\n",
    "        if output_dir is not None:\n",
    "            output_dir = Path(output_dir)\n",
    "            if not output_dir.exists():\n",
    "                output_dir.mkdir()\n",
    "            nlp.to_disk(output_dir)\n",
    "            print(\"Saved model to\", output_dir)\n",
    "            \n",
    "        return nlp\n",
    "    else:\n",
    "        return 0\n",
    "\n",
    "    \n",
    "    \n",
    "def extract_entities(doc):\n",
    "    dict_new_ents = {}\n",
    "    list_new_ents = []\n",
    "    for ent in doc.ents:\n",
    "        # Only check\n",
    "        if ent.label_ == \"AstroTerm\":\n",
    "            \n",
    "            \n",
    "            list_new_ents.append((ent.start_char, ent.end_char, ent.label_))      \n",
    "    \n",
    "    dict_new_ents['entities'] = list_new_ents\n",
    "            \n",
    "    return (doc.text,dict_new_ents )\n"
   ]
  },
  {
   "cell_type": "markdown",
   "metadata": {},
   "source": [
    "## Read the list of terminology "
   ]
  },
  {
   "cell_type": "code",
   "execution_count": 13,
   "metadata": {},
   "outputs": [],
   "source": [
    "terms_corpus = pd.read_excel('astronomy.xls')"
   ]
  },
  {
   "cell_type": "code",
   "execution_count": 14,
   "metadata": {},
   "outputs": [],
   "source": [
    "# the list containing the pharses to be matched\n",
    "terminology_list = []\n",
    "for term in terms_corpus['key']:\n",
    "    terminology_list.append(term[term.find(':')+2:])"
   ]
  },
  {
   "cell_type": "markdown",
   "metadata": {},
   "source": [
    "## text for training:"
   ]
  },
  {
   "cell_type": "code",
   "execution_count": 15,
   "metadata": {},
   "outputs": [],
   "source": [
    "# import glob\n",
    "# read_files = glob.glob(\"corpus/Astromony_*.txt\")\n",
    "# with open(\"corpus/result.txt\", \"wb\") as outfile:\n",
    "#     for f in read_files:\n",
    "#         with open(f, \"rb\") as infile:\n",
    "#             outfile.write(infile.read())\n",
    "\n",
    "# the input text string is converted to a Document object\n",
    "\n",
    "file = open('corpus/result.txt')\n",
    "text = file.read()"
   ]
  },
  {
   "cell_type": "markdown",
   "metadata": {},
   "source": [
    "## Entity ruler"
   ]
  },
  {
   "cell_type": "code",
   "execution_count": 16,
   "metadata": {},
   "outputs": [],
   "source": [
    "nlp_rule_based = English()\n",
    "ruler = EntityRuler(nlp_rule_based)"
   ]
  },
  {
   "cell_type": "code",
   "execution_count": 17,
   "metadata": {},
   "outputs": [],
   "source": [
    "# create patterns\n",
    "patterns = []\n",
    "\n",
    "for term in terminology_list:\n",
    "    dct = {}\n",
    "    temp = term.split()\n",
    "    if len(temp) == 1:\n",
    "        dct[\"label\"] = \"AstroTerm\"\n",
    "        dct[\"pattern\"] = temp[0]\n",
    "        patterns.append(dct)\n",
    "    else:\n",
    "        lst = []\n",
    "        for item in temp:\n",
    "            dct_temp = {}\n",
    "            dct_temp[\"lower\"] = item\n",
    "            \n",
    "            lst.append(dct_temp)\n",
    "            \n",
    "        dct[\"label\"] = \"AstroTerm\"\n",
    "        dct[\"pattern\"] = lst\n",
    "        patterns.append(dct)"
   ]
  },
  {
   "cell_type": "code",
   "execution_count": 18,
   "metadata": {},
   "outputs": [],
   "source": [
    "# add patterns and pipe\n",
    "ruler.add_patterns(patterns)\n",
    "nlp_rule_based.add_pipe(ruler)"
   ]
  },
  {
   "cell_type": "code",
   "execution_count": 19,
   "metadata": {},
   "outputs": [],
   "source": [
    "# generate annotaeted data\n",
    "train_data = []\n",
    "for doc in nltk.tokenize.sent_tokenize(text):\n",
    "    doc = nlp_rule_based(doc)\n",
    "    train_data.append(extract_entities(doc))"
   ]
  },
  {
   "cell_type": "markdown",
   "metadata": {},
   "source": [
    "## Neural Network approach:"
   ]
  },
  {
   "cell_type": "code",
   "execution_count": 20,
   "metadata": {},
   "outputs": [],
   "source": [
    "# to train the model set 'train' to true \n",
    "nlp = train_spacy(train_data, 100, train = False)"
   ]
  },
  {
   "cell_type": "code",
   "execution_count": 21,
   "metadata": {},
   "outputs": [],
   "source": [
    "# save the model\n",
    "#output_dir = \"output_dir\"\n",
    "# if output_dir is not None:\n",
    "#     output_dir = Path(output_dir)\n",
    "#     if not output_dir.exists():\n",
    "#         output_dir.mkdir()\n",
    "#     nlp.to_disk(output_dir)\n",
    "#     print(\"Saved model to\", output_dir)"
   ]
  },
  {
   "cell_type": "code",
   "execution_count": 22,
   "metadata": {},
   "outputs": [
    {
     "name": "stdout",
     "output_type": "stream",
     "text": [
      "Loading from output_dir\n"
     ]
    }
   ],
   "source": [
    "# upload the saved model\n",
    "output_dir = \"output_dir\"\n",
    "print(\"Loading from\", output_dir)\n",
    "nlp = spacy.load(output_dir)"
   ]
  },
  {
   "cell_type": "code",
   "execution_count": 23,
   "metadata": {},
   "outputs": [
    {
     "name": "stdout",
     "output_type": "stream",
     "text": [
      "Enter your testing text: Enter your testing text: \"These Hubble images may be snapshots of what present-day dwarf galaxies may have been like at earlier epochs,\" said lead researcher Erik Tollerud of the Space Telescope Science Institute in Baltimore, Maryland. \"Studying these and other similar galaxies can provide further clues to dwarf galaxy formation and evolution.\"  The Hubble observations suggest that the galaxies, called Pisces A and B, are late bloomers because they have spent most of their existence in the Local Void, a region of the universe sparsely populated with galaxies. The Local Void is roughly 150 million light-years across.  Under the steady pull of gravity from the galactic big city, the loner dwarf galaxies have at last entered a crowded region that is denser in intergalactic gas. In this gas-rich environment, star birth may have been triggered by gas raining down on the galaxies as they plow through the denser region. Another idea is that the duo may have encountered a gaseous filament, which compresses gas in the galaxies and stokes star birth. Tollerud's team determined that the objects are at the edge of a nearby filament of dense gas. Each galaxy contains only about 10 million stars.  Dwarf galaxies are the building blocks from which larger galaxies were formed billions of years ago in the early universe. Inhabiting a sparse desert of largely empty space for most of the universe's history, these two galaxies avoided that busy construction period.  \"These galaxies may have spent most of their history in the void,\" Tollerud explained. \"If this is true, the void environment would have slowed their evolution. Evidence for the galaxies' void address is that their hydrogen content is somewhat high relative to similar galaxies. In the past, galaxies contained higher concentrations of hydrogen, the fuel needed to make stars. But these galaxies seem to retain that more primitive composition, rather than the enriched composition of contemporary galaxies, due to a less vigorous history of star formation. The galaxies also are quite compact relative to the typical star-forming galaxies in our galactic neighborhood.\"  The dwarf galaxies are small and faint, so finding them is extremely difficult. Astronomers spotted them by using radio telescopes in a unique survey to measure the hydrogen content in our Milky Way. The observations captured thousands of small blobs of dense hydrogen gas. Most of them are gas clouds within our galaxy, but astronomers identified 30 to 50 of those blobs as possible galaxies. The researchers used the WIYN telescope in Arizona to study 15 of the most promising candidates in visible light. Based on those observations, Tollerud's team selected the two that are the most likely candidates to be nearby galaxies and analyzed them with Hubble's Advanced Camera for Surveys. Hubble's sharp vision helped the astronomers confirm that both of them, Pisces A and B, are dwarf galaxies.  The Hubble telescope is aptly suited to study nearby, dim dwarf galaxies because its sharp vision can resolve individual stars and help astronomers estimate the galaxies' distances. Distance is important for determining a galaxy's brightness, and, in these Hubble observations, for calculating how far away the galaxies are from nearby voids. Pisces A is about 19 million light-years from Earth and Pisces B roughly 30 million light-years away. Based on the galaxies' locations, an analysis of the stars' colors allowed the astronomers to trace the star formation history of both galaxies. Each galaxy contains about 20 to 30 bright blue stars, a sign that they are very young, less than 100 million years old. Tollerud's team estimates that less than 100 million years ago, the galaxies doubled their star-formation rate. Eventually, the star formation may slow down again if the galaxies become satellites of a much larger galaxy.  \"The galaxies could even probably stop forming stars altogether, because they will stop getting new gas to make stars,\" Tollerud said. \"So they will use up their existing gas. But it's hard to tell right now exactly when that would happen, so it's a reasonable guess that the star formation will ramp up at least for a while.\"  Tollerud's team hopes to observe other similar galaxies with Hubble. He also plans to scour the Panoramic Survey Telescope and Rapid Response System survey (PanSTARRS) for potential dwarf galaxies. Future wide-survey telescopes, such as the Large Synoptic Survey Telescope (LSST) in Chile and the large radio telescope in China, should be able to find many of these puny galactic neighbors.\n"
     ]
    }
   ],
   "source": [
    "# text test\n",
    "text_test = input(\"Enter your testing text: \")"
   ]
  },
  {
   "cell_type": "code",
   "execution_count": 53,
   "metadata": {},
   "outputs": [],
   "source": [
    "# test text\n",
    "#file = open('test_corpus/text09.txt')\n",
    "#text_test = file.read()"
   ]
  },
  {
   "cell_type": "code",
   "execution_count": 24,
   "metadata": {
    "cell_style": "split"
   },
   "outputs": [
    {
     "data": {
      "text/plain": [
       "Counter({('Space Telescope', 'AstroTerm'): 1,\n",
       "         ('dwarf galaxy', 'AstroTerm'): 1,\n",
       "         ('universe', 'AstroTerm'): 3,\n",
       "         ('light', 'AstroTerm'): 4,\n",
       "         ('gravity', 'AstroTerm'): 1,\n",
       "         ('star', 'AstroTerm'): 4,\n",
       "         ('gaseous', 'AstroTerm'): 1,\n",
       "         ('filament', 'AstroTerm'): 2,\n",
       "         ('galaxy', 'AstroTerm'): 5,\n",
       "         ('empty', 'AstroTerm'): 1,\n",
       "         ('space', 'AstroTerm'): 1,\n",
       "         ('hydrogen', 'AstroTerm'): 3,\n",
       "         ('star formation', 'AstroTerm'): 4,\n",
       "         ('neighborhood', 'AstroTerm'): 1,\n",
       "         ('faint', 'AstroTerm'): 1,\n",
       "         ('hydrogen gas', 'AstroTerm'): 1,\n",
       "         ('WIYN telescope', 'AstroTerm'): 1,\n",
       "         ('telescope', 'AstroTerm'): 1,\n",
       "         ('trace', 'AstroTerm'): 1,\n",
       "         ('Panoramic Survey', 'AstroTerm'): 1,\n",
       "         ('System survey', 'AstroTerm'): 1,\n",
       "         ('wide-survey', 'AstroTerm'): 1,\n",
       "         ('radio telescope', 'AstroTerm'): 1})"
      ]
     },
     "execution_count": 24,
     "metadata": {},
     "output_type": "execute_result"
    }
   ],
   "source": [
    "# run the neural network model\n",
    "doc = nlp(text_test)\n",
    "entities = [(ent.text, ent.label_) for ent in doc.ents]\n",
    "#print(\"Entities\", entities)\n",
    "counter_nn = Counter(entities)\n",
    "counter_nn"
   ]
  },
  {
   "cell_type": "code",
   "execution_count": 25,
   "metadata": {
    "cell_style": "split"
   },
   "outputs": [
    {
     "data": {
      "text/plain": [
       "Counter({('Space Telescope', 'AstroTerm'): 1,\n",
       "         ('dwarf galaxy', 'AstroTerm'): 1,\n",
       "         ('universe', 'AstroTerm'): 3,\n",
       "         ('light', 'AstroTerm'): 4,\n",
       "         ('gravity', 'AstroTerm'): 1,\n",
       "         ('star', 'AstroTerm'): 4,\n",
       "         ('gaseous', 'AstroTerm'): 1,\n",
       "         ('filament', 'AstroTerm'): 2,\n",
       "         ('galaxy', 'AstroTerm'): 5,\n",
       "         ('empty', 'AstroTerm'): 1,\n",
       "         ('space', 'AstroTerm'): 1,\n",
       "         ('hydrogen', 'AstroTerm'): 3,\n",
       "         ('star formation', 'AstroTerm'): 4,\n",
       "         ('neighborhood', 'AstroTerm'): 1,\n",
       "         ('faint', 'AstroTerm'): 1,\n",
       "         ('hydrogen gas', 'AstroTerm'): 1,\n",
       "         ('telescope', 'AstroTerm'): 2,\n",
       "         ('trace', 'AstroTerm'): 1,\n",
       "         ('radio telescope', 'AstroTerm'): 1})"
      ]
     },
     "execution_count": 25,
     "metadata": {},
     "output_type": "execute_result"
    }
   ],
   "source": [
    "# run rule based model\n",
    "doc = nlp_rule_based(text_test)\n",
    "entities = [(ent.text, ent.label_) for ent in doc.ents]\n",
    "#print(\"Entities\", entities)\n",
    "counter = Counter(entities)\n",
    "counter"
   ]
  },
  {
   "cell_type": "code",
   "execution_count": 86,
   "metadata": {},
   "outputs": [],
   "source": [
    "#displacy.render(matched_sents, style=\"ent\", manual=True)\n"
   ]
  },
  {
   "cell_type": "code",
   "execution_count": 26,
   "metadata": {},
   "outputs": [],
   "source": [
    "\n",
    "terms_nn = [[ter, val] for ter, val in zip(counter_nn.keys(),counter_nn.values())]\n",
    "terms_RB = [[ter, val] for ter, val in zip(counter.keys(),counter.values())]\n"
   ]
  },
  {
   "cell_type": "code",
   "execution_count": 40,
   "metadata": {},
   "outputs": [
    {
     "data": {
      "image/png": "[encoded data removed]",
      "text/plain": [
       "<Figure size 1080x720 with 1 Axes>"
      ]
     },
     "metadata": {
      "needs_background": "light"
     },
     "output_type": "display_data"
    }
   ],
   "source": [
    "dfs = [pd.DataFrame(np.array(lst), \n",
    "                    columns=['idx', i]).set_index('idx')\n",
    "          for i,lst in zip(['Sequence_tagger', 'Rulebased_tagger'],[terms_nn,terms_RB])]\n",
    "\n",
    "df = pd.concat(dfs, axis=1)\n",
    "\n",
    "ax = df.plot.bar()"
   ]
  },
  {
   "cell_type": "code",
   "execution_count": null,
   "metadata": {},
   "outputs": [],
   "source": []
  },
  {
   "cell_type": "code",
   "execution_count": null,
   "metadata": {},
   "outputs": [],
   "source": []
  }
 ],
 "metadata": {
  "kernelspec": {
   "display_name": "tensorflow",
   "language": "python",
   "name": "tensorflow"
  },
  "language_info": {
   "codemirror_mode": {
    "name": "ipython",
    "version": 3
   },
   "file_extension": ".py",
   "mimetype": "text/x-python",
   "name": "python",
   "nbconvert_exporter": "python",
   "pygments_lexer": "ipython3",
   "version": "3.7.7"
  },
  "toc": {
   "base_numbering": 1,
   "nav_menu": {},
   "number_sections": true,
   "sideBar": true,
   "skip_h1_title": false,
   "title_cell": "Table of Contents",
   "title_sidebar": "Contents",
   "toc_cell": false,
   "toc_position": {},
   "toc_section_display": true,
   "toc_window_display": false
  }
 },
 "nbformat": 4,
 "nbformat_minor": 4
}
