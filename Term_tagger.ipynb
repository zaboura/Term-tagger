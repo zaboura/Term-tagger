{
 "cells": [
  {
   "cell_type": "markdown",
   "metadata": {},
   "source": [
    "<center>\n",
    "    <h1>\n",
    "        Term identification system for a specific domain\n",
    "    </h1>\n",
    "    Rameez Qurashi, Abdelhak Zabour\n",
    "    </center>\n",
    "    "
   ]
  },
  {
   "cell_type": "code",
   "execution_count": 1,
   "metadata": {},
   "outputs": [],
   "source": [
    "# PhraseMatcher.py\n",
    "# import necessary modules\n",
    "\n",
    "from __future__ import unicode_literals, print_function\n",
    "\n",
    "\n",
    "from pathlib import Path\n",
    "from spacy.util import minibatch, compounding\n",
    "from spacy.pipeline import EntityRuler\n",
    "from spacy.lang.en import English\n",
    "from spacy import displacy\n",
    "from collections import Counter\n",
    "from spacy.matcher import PhraseMatcher #import PhraseMatcher class\n",
    "#from nltk.chunk import conlltags2tree, tree2conlltags\n",
    "from pprint import pprint\n",
    "from time import sleep\n",
    "from progressbar import progressbar\n",
    "from spacy.tokens import Span\n",
    "from spacy.util import minibatch, compounding\n",
    "from collections import Counter\n",
    "\n",
    "import matplotlib.pyplot as plt\n",
    "import nltk\n",
    "import random\n",
    "import plac\n",
    "import warnings\n",
    "import pandas as pd\n",
    "import numpy as np\n",
    "import xlrd\n",
    "import spacy\n",
    "#import en_core_web_sm\n",
    "#import json \n",
    "import re\n",
    "\n",
    "plt.rcParams[\"figure.figsize\"] = (15,10)\n",
    "\n",
    "#nltk.download('punkt')\n",
    "\n",
    "# Language class with the English model 'en_core_web_sm' is loaded\n",
    "#nlp = spacy.load('en_core_web_sm')\n",
    "#nlp.max_length = 7000000"
   ]
  },
  {
   "cell_type": "code",
   "execution_count": 9,
   "metadata": {},
   "outputs": [],
   "source": [
    "    \n",
    "def extract_entities(doc):\n",
    "    dict_new_ents = {}\n",
    "    list_new_ents = []\n",
    "    for ent in doc.ents:\n",
    "        # Only check\n",
    "        if ent.label_ == \"AstroTerm\":\n",
    "            \n",
    "            \n",
    "            list_new_ents.append((ent.start_char, ent.end_char, ent.label_))      \n",
    "    \n",
    "    dict_new_ents['entities'] = list_new_ents\n",
    "            \n",
    "    return (doc.text,dict_new_ents )\n"
   ]
  },
  {
   "cell_type": "markdown",
   "metadata": {},
   "source": [
    "## Read the list of terminology "
   ]
  },
  {
   "cell_type": "code",
   "execution_count": 2,
   "metadata": {},
   "outputs": [],
   "source": [
    "terms_corpus = pd.read_excel('astronomy.xls')"
   ]
  },
  {
   "cell_type": "code",
   "execution_count": 3,
   "metadata": {},
   "outputs": [],
   "source": [
    "# the list containing the pharses to be matched\n",
    "terminology_list = []\n",
    "for term in terms_corpus['key']:\n",
    "    terminology_list.append(term[term.find(':')+2:])"
   ]
  },
  {
   "cell_type": "markdown",
   "metadata": {},
   "source": [
    "## text for training:"
   ]
  },
  {
   "cell_type": "code",
   "execution_count": 4,
   "metadata": {},
   "outputs": [],
   "source": [
    "# read the texts from corpus\n",
    "file = open('corpus/result.txt')\n",
    "text = file.read()"
   ]
  },
  {
   "cell_type": "code",
   "execution_count": 5,
   "metadata": {},
   "outputs": [],
   "source": [
    "nlp_rule_based = English()\n",
    "ruler = EntityRuler(nlp_rule_based)"
   ]
  },
  {
   "cell_type": "code",
   "execution_count": 6,
   "metadata": {},
   "outputs": [],
   "source": [
    "# create patterns\n",
    "patterns = []\n",
    "\n",
    "for term in terminology_list:\n",
    "    dct = {}\n",
    "    temp = term.split()\n",
    "    if len(temp) == 1:\n",
    "        dct[\"label\"] = \"AstroTerm\"\n",
    "        dct[\"pattern\"] = temp[0]\n",
    "        patterns.append(dct)\n",
    "    else:\n",
    "        lst = []\n",
    "        for item in temp:\n",
    "            dct_temp = {}\n",
    "            dct_temp[\"lower\"] = item\n",
    "            \n",
    "            lst.append(dct_temp)\n",
    "            \n",
    "        dct[\"label\"] = \"AstroTerm\"\n",
    "        dct[\"pattern\"] = lst\n",
    "        patterns.append(dct)"
   ]
  },
  {
   "cell_type": "code",
   "execution_count": 7,
   "metadata": {},
   "outputs": [],
   "source": [
    "# add patterns and pipe\n",
    "ruler.add_patterns(patterns)\n",
    "nlp_rule_based.add_pipe(ruler)"
   ]
  },
  {
   "cell_type": "code",
   "execution_count": 10,
   "metadata": {},
   "outputs": [],
   "source": [
    "# generate annotated data\n",
    "train_data = []\n",
    "for doc in nltk.tokenize.sent_tokenize(text):\n",
    "    doc = nlp_rule_based(doc)\n",
    "    train_data.append(extract_entities(doc))"
   ]
  },
  {
   "cell_type": "markdown",
   "metadata": {},
   "source": [
    "## Neural Network approach:"
   ]
  },
  {
   "cell_type": "code",
   "execution_count": 11,
   "metadata": {},
   "outputs": [
    {
     "name": "stdout",
     "output_type": "stream",
     "text": [
      "Loading from output_dir\n"
     ]
    }
   ],
   "source": [
    "# upload the saved model\n",
    "output_dir = \"output_dir\"\n",
    "print(\"Loading from\", output_dir)\n",
    "nlp_seq = spacy.load(output_dir)"
   ]
  },
  {
   "cell_type": "code",
   "execution_count": 12,
   "metadata": {},
   "outputs": [
    {
     "name": "stdout",
     "output_type": "stream",
     "text": [
      "Enter your testing text: Gravity, the ubiquitous attractive force that pervades our Universe, is a significant driver of galaxy formation. Gravity makes galaxies collide, and these collisions can affect various properties -- merging drives strong star formation in the galaxies in question, increases the masses of their constituent black holes and can significantly alter the internal structure of the galaxies.  Our classical paradigm has often assumed that mergers between equal mass progenitors ('major' mergers) have the most transformative impact on galaxies. However, such events are rare. Much more common are mergers between massive galaxies and small satellites ('minor' mergers). This is because small galaxies far outnumber their more massive counterparts -- the attractive nature of gravity then ensures that these massive galaxies are constantly being bombarded by satellites.  While major mergers are more spectacular and easier to study because they tend to be brighter, studying minor mergers requires large surveys which offer 'deep' i.e. long exposure imaging which is able to detect the faint tidal features that are the signatures of minor mergers.  Recently, circumstantial evidence is accumulating that suggests that minor mergers are indeed important drivers of galaxy evolution e.g. the observed size growth of galaxies over the last 10-12 billion years is likely due to repeated minor mergers. This study is the first to use a deep survey to quantify what fraction of the star formation in the nearby Universe is likely to be driven by the minor-merger process. \"The results are striking,\" according to Dr Sugata Kaviraj of the University of Hertfordshire, the scientist behind this work. \"Just over half of the cosmic star formation budget is directly driven by minor mergers. In other words, if this process did not take place then galaxies in today's Universe would be at least a factor of two less massive.\"  Without a good comprehension of the minor-merger process, therefore, our understanding of galaxy evolution will remain incomplete. This paper is a precursor to work that can be done using future instrumentation like the Large Synoptic Survey Telescope which will, for the first time, provide deep imaging over around half the sky, enabling the first statistically robust studies of minor merging over at least 50% of cosmic time.\n"
     ]
    }
   ],
   "source": [
    "# text test\n",
    "text_test = input(\"Enter your testing text: \")"
   ]
  },
  {
   "cell_type": "code",
   "execution_count": null,
   "metadata": {},
   "outputs": [],
   "source": [
    "# test text\n",
    "#file = open('test_corpus/text09.txt')\n",
    "#text_test = file.read()"
   ]
  },
  {
   "cell_type": "markdown",
   "metadata": {},
   "source": [
    "## Comparison between two approaches"
   ]
  },
  {
   "cell_type": "code",
   "execution_count": 13,
   "metadata": {
    "cell_style": "split"
   },
   "outputs": [
    {
     "data": {
      "text/plain": [
       "Counter({('galaxy formation', 'AstroTerm'): 1,\n",
       "         ('star formation', 'AstroTerm'): 3,\n",
       "         ('mass', 'AstroTerm'): 1,\n",
       "         ('gravity', 'AstroTerm'): 1,\n",
       "         ('exposure', 'AstroTerm'): 1,\n",
       "         ('faint', 'AstroTerm'): 1,\n",
       "         ('tidal', 'AstroTerm'): 1,\n",
       "         ('galaxy', 'AstroTerm'): 2})"
      ]
     },
     "execution_count": 13,
     "metadata": {},
     "output_type": "execute_result"
    }
   ],
   "source": [
    "# run the neural network model\n",
    "doc = nlp_seq(text_test)\n",
    "entities = [(ent.text, ent.label_) for ent in doc.ents]\n",
    "#print(\"Entities\", entities)\n",
    "counter_nn = Counter(entities)\n",
    "counter_nn"
   ]
  },
  {
   "cell_type": "code",
   "execution_count": 14,
   "metadata": {
    "cell_style": "split"
   },
   "outputs": [
    {
     "data": {
      "text/plain": [
       "Counter({('galaxy', 'AstroTerm'): 3,\n",
       "         ('star formation', 'AstroTerm'): 3,\n",
       "         ('mass', 'AstroTerm'): 1,\n",
       "         ('gravity', 'AstroTerm'): 1,\n",
       "         ('exposure', 'AstroTerm'): 1,\n",
       "         ('faint', 'AstroTerm'): 1,\n",
       "         ('tidal', 'AstroTerm'): 1})"
      ]
     },
     "execution_count": 14,
     "metadata": {},
     "output_type": "execute_result"
    }
   ],
   "source": [
    "# run rule based model\n",
    "doc = nlp_rule_based(text_test)\n",
    "entities = [(ent.text, ent.label_) for ent in doc.ents]\n",
    "#print(\"Entities\", entities)\n",
    "counter = Counter(entities)\n",
    "counter"
   ]
  },
  {
   "cell_type": "code",
   "execution_count": null,
   "metadata": {},
   "outputs": [],
   "source": [
    "#displacy.render(matched_sents, style=\"ent\", manual=True)\n"
   ]
  },
  {
   "cell_type": "code",
   "execution_count": 15,
   "metadata": {},
   "outputs": [],
   "source": [
    "# create list for visualization\n",
    "terms_nn = [[ter, val] for ter, val in zip(counter_nn.keys(),counter_nn.values())]\n",
    "terms_RB = [[ter, val] for ter, val in zip(counter.keys(),counter.values())]"
   ]
  },
  {
   "cell_type": "code",
   "execution_count": 16,
   "metadata": {},
   "outputs": [
    {
     "data": {
      "image/png": "[encoded data removed]",
      "text/plain": [
       "<Figure size 1080x720 with 1 Axes>"
      ]
     },
     "metadata": {
      "needs_background": "light"
     },
     "output_type": "display_data"
    }
   ],
   "source": [
    "dfs = [pd.DataFrame(np.array(lst), \n",
    "                    columns=['idx', i]).set_index('idx')\n",
    "          for i,lst in zip(['Sequence_tagger', 'Rulebased_tagger'],[terms_nn,terms_RB])]\n",
    "\n",
    "df = pd.concat(dfs, axis=1)\n",
    "\n",
    "ax = df.plot.bar()"
   ]
  },
  {
   "cell_type": "code",
   "execution_count": null,
   "metadata": {},
   "outputs": [],
   "source": []
  }
 ],
 "metadata": {
  "kernelspec": {
   "display_name": "tensorflow",
   "language": "python",
   "name": "tensorflow"
  },
  "language_info": {
   "codemirror_mode": {
    "name": "ipython",
    "version": 3
   },
   "file_extension": ".py",
   "mimetype": "text/x-python",
   "name": "python",
   "nbconvert_exporter": "python",
   "pygments_lexer": "ipython3",
   "version": "3.7.7"
  },
  "toc": {
   "base_numbering": 1,
   "nav_menu": {},
   "number_sections": true,
   "sideBar": true,
   "skip_h1_title": false,
   "title_cell": "Table of Contents",
   "title_sidebar": "Contents",
   "toc_cell": false,
   "toc_position": {},
   "toc_section_display": true,
   "toc_window_display": false
  }
 },
 "nbformat": 4,
 "nbformat_minor": 4
}
