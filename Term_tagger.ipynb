{
 "cells": [
  {
   "cell_type": "markdown",
   "metadata": {},
   "source": [
    "<center>\n",
    "    <h1>\n",
    "        Term identification system for a specific domain\n",
    "    </h1>\n",
    "    Rameez Qurashi, Abdelhak Zabour\n",
    "    </center>\n",
    "    "
   ]
  },
  {
   "cell_type": "code",
   "execution_count": 27,
   "metadata": {},
   "outputs": [],
   "source": [
    "# PhraseMatcher.py\n",
    "# import necessary modules\n",
    "\n",
    "from __future__ import unicode_literals, print_function\n",
    "\n",
    "\n",
    "from pathlib import Path\n",
    "from spacy.util import minibatch, compounding\n",
    "from spacy.pipeline import EntityRuler\n",
    "from spacy.lang.en import English\n",
    "from spacy import displacy\n",
    "from collections import Counter\n",
    "from spacy.matcher import PhraseMatcher #import PhraseMatcher class\n",
    "#from nltk.chunk import conlltags2tree, tree2conlltags\n",
    "from pprint import pprint\n",
    "from time import sleep\n",
    "from progressbar import progressbar\n",
    "from spacy.tokens import Span\n",
    "from spacy.util import minibatch, compounding\n",
    "from collections import Counter\n",
    "\n",
    "import matplotlib.pyplot as plt\n",
    "import nltk\n",
    "import random\n",
    "import plac\n",
    "import warnings\n",
    "import pandas as pd\n",
    "import numpy as np\n",
    "import xlrd\n",
    "import spacy\n",
    "#import en_core_web_sm\n",
    "import os \n",
    "import re\n",
    "\n",
    "plt.rcParams[\"figure.figsize\"] = (15,10)\n",
    "\n",
    "#nltk.download('punkt')\n",
    "\n",
    "# Language class with the English model 'en_core_web_sm' is loaded\n",
    "#nlp = spacy.load('en_core_web_sm')\n",
    "#nlp.max_length = 7000000"
   ]
  },
  {
   "cell_type": "code",
   "execution_count": 2,
   "metadata": {},
   "outputs": [],
   "source": [
    "    \n",
    "def extract_entities(doc):\n",
    "    dict_new_ents = {}\n",
    "    list_new_ents = []\n",
    "    for ent in doc.ents:\n",
    "        # Only check\n",
    "        if ent.label_ == \"AstroTerm\":\n",
    "            \n",
    "            \n",
    "            list_new_ents.append((ent.start_char, ent.end_char, ent.label_))      \n",
    "    \n",
    "    dict_new_ents['entities'] = list_new_ents\n",
    "            \n",
    "    return (doc.text,dict_new_ents )\n"
   ]
  },
  {
   "cell_type": "markdown",
   "metadata": {},
   "source": [
    "## Read the list of terminology "
   ]
  },
  {
   "cell_type": "code",
   "execution_count": 3,
   "metadata": {},
   "outputs": [],
   "source": [
    "terms_corpus = pd.read_excel('astronomy.xls')"
   ]
  },
  {
   "cell_type": "code",
   "execution_count": 4,
   "metadata": {},
   "outputs": [],
   "source": [
    "# the list containing the pharses to be matched\n",
    "terminology_list = []\n",
    "for term in terms_corpus['key']:\n",
    "    terminology_list.append(term[term.find(':')+2:])"
   ]
  },
  {
   "cell_type": "markdown",
   "metadata": {},
   "source": [
    "## text for training:"
   ]
  },
  {
   "cell_type": "code",
   "execution_count": 5,
   "metadata": {},
   "outputs": [],
   "source": [
    "# read the texts from corpus\n",
    "file = open('corpus/result.txt')\n",
    "text = file.read()"
   ]
  },
  {
   "cell_type": "code",
   "execution_count": 6,
   "metadata": {},
   "outputs": [],
   "source": [
    "nlp_rule_based = English()\n",
    "ruler = EntityRuler(nlp_rule_based)"
   ]
  },
  {
   "cell_type": "code",
   "execution_count": 7,
   "metadata": {},
   "outputs": [],
   "source": [
    "# create patterns\n",
    "patterns = []\n",
    "\n",
    "for term in terminology_list:\n",
    "    dct = {}\n",
    "    temp = term.split()\n",
    "    if len(temp) == 1:\n",
    "        dct[\"label\"] = \"AstroTerm\"\n",
    "        dct[\"pattern\"] = temp[0]\n",
    "        patterns.append(dct)\n",
    "    else:\n",
    "        lst = []\n",
    "        for item in temp:\n",
    "            dct_temp = {}\n",
    "            dct_temp[\"lower\"] = item\n",
    "            \n",
    "            lst.append(dct_temp)\n",
    "            \n",
    "        dct[\"label\"] = \"AstroTerm\"\n",
    "        dct[\"pattern\"] = lst\n",
    "        patterns.append(dct)"
   ]
  },
  {
   "cell_type": "code",
   "execution_count": 8,
   "metadata": {},
   "outputs": [],
   "source": [
    "# add patterns and pipe\n",
    "ruler.add_patterns(patterns)\n",
    "nlp_rule_based.add_pipe(ruler)"
   ]
  },
  {
   "cell_type": "code",
   "execution_count": 9,
   "metadata": {},
   "outputs": [],
   "source": [
    "# generate annotated data\n",
    "train_data = []\n",
    "for doc in nltk.tokenize.sent_tokenize(text):\n",
    "    doc = nlp_rule_based(doc)\n",
    "    train_data.append(extract_entities(doc))"
   ]
  },
  {
   "cell_type": "markdown",
   "metadata": {},
   "source": [
    "## Neural Network approach:"
   ]
  },
  {
   "cell_type": "code",
   "execution_count": 10,
   "metadata": {},
   "outputs": [
    {
     "name": "stdout",
     "output_type": "stream",
     "text": [
      "Loading from output_dir\n"
     ]
    }
   ],
   "source": [
    "# upload the saved model\n",
    "output_dir = \"output_dir\"\n",
    "print(\"Loading from\", output_dir)\n",
    "nlp_seq = spacy.load(output_dir)"
   ]
  },
  {
   "cell_type": "code",
   "execution_count": 11,
   "metadata": {},
   "outputs": [
    {
     "name": "stdout",
     "output_type": "stream",
     "text": [
      "Enter your testing text: Enter your testing text: Gravity, the ubiquitous attractive force that pervades our Universe, is a significant driver of galaxy formation. Gravity makes galaxies collide, and these collisions can affect various properties -- merging drives strong star formation in the galaxies in question, increases the masses of their constituent black holes and can significantly alter the internal structure of the galaxies.  Our classical paradigm has often assumed that mergers between equal mass progenitors ('major' mergers) have the most transformative impact on galaxies. However, such events are rare. Much more common are mergers between massive galaxies and small satellites ('minor' mergers). This is because small galaxies far outnumber their more massive counterparts -- the attractive nature of gravity then ensures that these massive galaxies are constantly being bombarded by satellites.  While major mergers are more spectacular and easier to study because they tend to be brighter, studying minor mergers requires large surveys which offer 'deep' i.e. long exposure imaging which is able to detect the faint tidal features that are the signatures of minor mergers.  Recently, circumstantial evidence is accumulating that suggests that minor mergers are indeed important drivers of galaxy evolution e.g. the observed size growth of galaxies over the last 10-12 billion years is likely due to repeated minor mergers. This study is the first to use a deep survey to quantify what fraction of the star formation in the nearby Universe is likely to be driven by the minor-merger process. \"The results are striking,\" according to Dr Sugata Kaviraj of the University of Hertfordshire, the scientist behind this work. \"Just over half of the cosmic star formation budget is directly driven by minor mergers. In other words, if this process did not take place then galaxies in today's Universe would be at least a factor of two less massive.\"  Without a good comprehension of the minor-merger process, therefore, our understanding of galaxy evolution will remain incomplete. This paper is a precursor to work that can be done using future instrumentation like the Large Synoptic Survey Telescope which will, for the first time, provide deep imaging over around half the sky, enabling the first statistically robust studies of minor merging over at least 50% of cosmic time.\n"
     ]
    }
   ],
   "source": [
    "# text test\n",
    "text_test = input(\"Enter your testing text: \")"
   ]
  },
  {
   "cell_type": "code",
   "execution_count": 49,
   "metadata": {},
   "outputs": [],
   "source": [
    "# test text\n",
    "file = open('test_corpus/text02.txt')\n",
    "text_test = file.read()"
   ]
  },
  {
   "cell_type": "markdown",
   "metadata": {},
   "source": [
    "## Comparison between two approaches"
   ]
  },
  {
   "cell_type": "code",
   "execution_count": 54,
   "metadata": {
    "cell_style": "split"
   },
   "outputs": [
    {
     "data": {
      "text/plain": [
       "Counter({('astrophysicist', 'AstroTerm'): 1,\n",
       "         ('light', 'AstroTerm'): 2,\n",
       "         ('observation', 'AstroTerm'): 1,\n",
       "         ('Spherical Telescope', 'AstroTerm'): 1,\n",
       "         ('gamma-ray', 'AstroTerm'): 2,\n",
       "         ('universe', 'AstroTerm'): 4,\n",
       "         ('neutron', 'AstroTerm'): 2,\n",
       "         ('polarization', 'AstroTerm'): 4,\n",
       "         ('Milky Way Galaxy', 'AstroTerm'): 1,\n",
       "         ('so-called', 'AstroTerm'): 1,\n",
       "         ('telescope', 'AstroTerm'): 1,\n",
       "         ('review', 'AstroTerm'): 1,\n",
       "         ('astronomy', 'AstroTerm'): 1})"
      ]
     },
     "execution_count": 54,
     "metadata": {},
     "output_type": "execute_result"
    }
   ],
   "source": [
    "# run the neural network model\n",
    "doc_seq = nlp_seq(text_test)\n",
    "entities = [(ent.text, ent.label_) for ent in doc_seq.ents]\n",
    "#print(\"Entities\", entities)\n",
    "counter_nn = Counter(entities)\n",
    "counter_nn"
   ]
  },
  {
   "cell_type": "code",
   "execution_count": 55,
   "metadata": {
    "cell_style": "split"
   },
   "outputs": [
    {
     "data": {
      "text/plain": [
       "Counter({('astrophysicist', 'AstroTerm'): 1,\n",
       "         ('light', 'AstroTerm'): 2,\n",
       "         ('observation', 'AstroTerm'): 1,\n",
       "         ('gamma-ray', 'AstroTerm'): 2,\n",
       "         ('universe', 'AstroTerm'): 4,\n",
       "         ('neutron', 'AstroTerm'): 2,\n",
       "         ('polarization', 'AstroTerm'): 4,\n",
       "         ('Milky Way Galaxy', 'AstroTerm'): 1,\n",
       "         ('so-called', 'AstroTerm'): 1,\n",
       "         ('telescope', 'AstroTerm'): 1,\n",
       "         ('review', 'AstroTerm'): 1,\n",
       "         ('astronomy', 'AstroTerm'): 1})"
      ]
     },
     "execution_count": 55,
     "metadata": {},
     "output_type": "execute_result"
    }
   ],
   "source": [
    "# run rule based model\n",
    "doc = nlp_rule_based(text_test)\n",
    "entities = [(ent.text, ent.label_) for ent in doc.ents]\n",
    "#print(\"Entities\", entities)\n",
    "counter = Counter(entities)\n",
    "counter"
   ]
  },
  {
   "cell_type": "code",
   "execution_count": 56,
   "metadata": {},
   "outputs": [
    {
     "data": {
      "text/html": [
       "<span class=\"tex2jax_ignore\"><div class=\"entities\" style=\"line-height: 2.5; direction: ltr\">UNLV \n",
       "<mark class=\"entity\" style=\"background: linear-gradient(90deg, #aa9cfc, #fc9ce7); padding: 0.45em 0.6em; margin: 0 0.25em; line-height: 1; border-radius: 0.35em;\">\n",
       "    astrophysicist\n",
       "    <span style=\"font-size: 0.8em; font-weight: bold; line-height: 1; border-radius: 0.35em; text-transform: uppercase; vertical-align: middle; margin-left: 0.5rem\">AstroTerm</span>\n",
       "</mark>\n",
       " Bing Zhang and international collaborators recently observed some of these mysterious sources, which led to a series of breakthrough discoveries reported in the journal Nature that may finally shed \n",
       "<mark class=\"entity\" style=\"background: linear-gradient(90deg, #aa9cfc, #fc9ce7); padding: 0.45em 0.6em; margin: 0 0.25em; line-height: 1; border-radius: 0.35em;\">\n",
       "    light\n",
       "    <span style=\"font-size: 0.8em; font-weight: bold; line-height: 1; border-radius: 0.35em; text-transform: uppercase; vertical-align: middle; margin-left: 0.5rem\">AstroTerm</span>\n",
       "</mark>\n",
       " into the physical mechanism of FRBs.</br>The first paper, for which Zhang is a corresponding author and leading theorist, was published in the Oct. 28 issue of Nature.</br>&quot;There are two main questions regarding the origin of FRBs,&quot; said Zhang, whose team made the \n",
       "<mark class=\"entity\" style=\"background: linear-gradient(90deg, #aa9cfc, #fc9ce7); padding: 0.45em 0.6em; margin: 0 0.25em; line-height: 1; border-radius: 0.35em;\">\n",
       "    observation\n",
       "    <span style=\"font-size: 0.8em; font-weight: bold; line-height: 1; border-radius: 0.35em; text-transform: uppercase; vertical-align: middle; margin-left: 0.5rem\">AstroTerm</span>\n",
       "</mark>\n",
       " using the Five-hundred-meter Aperture \n",
       "<mark class=\"entity\" style=\"background: linear-gradient(90deg, #aa9cfc, #fc9ce7); padding: 0.45em 0.6em; margin: 0 0.25em; line-height: 1; border-radius: 0.35em;\">\n",
       "    Spherical Telescope\n",
       "    <span style=\"font-size: 0.8em; font-weight: bold; line-height: 1; border-radius: 0.35em; text-transform: uppercase; vertical-align: middle; margin-left: 0.5rem\">AstroTerm</span>\n",
       "</mark>\n",
       " (FAST) in Guizhou, China. &quot;The first is what are the engines of FRBs and the second is what is the mechanism to produce FRBs. We found the answer to the second question in this paper.&quot;</br>Two competing theories have been proposed to interpret the mechanism of FRBs. One theory is that they're similar to \n",
       "<mark class=\"entity\" style=\"background: linear-gradient(90deg, #aa9cfc, #fc9ce7); padding: 0.45em 0.6em; margin: 0 0.25em; line-height: 1; border-radius: 0.35em;\">\n",
       "    gamma-ray\n",
       "    <span style=\"font-size: 0.8em; font-weight: bold; line-height: 1; border-radius: 0.35em; text-transform: uppercase; vertical-align: middle; margin-left: 0.5rem\">AstroTerm</span>\n",
       "</mark>\n",
       " bursts (GRBs), the most powerful explosions in the \n",
       "<mark class=\"entity\" style=\"background: linear-gradient(90deg, #aa9cfc, #fc9ce7); padding: 0.45em 0.6em; margin: 0 0.25em; line-height: 1; border-radius: 0.35em;\">\n",
       "    universe\n",
       "    <span style=\"font-size: 0.8em; font-weight: bold; line-height: 1; border-radius: 0.35em; text-transform: uppercase; vertical-align: middle; margin-left: 0.5rem\">AstroTerm</span>\n",
       "</mark>\n",
       ". The other theory likens them more to radio pulsars, which are spinning \n",
       "<mark class=\"entity\" style=\"background: linear-gradient(90deg, #aa9cfc, #fc9ce7); padding: 0.45em 0.6em; margin: 0 0.25em; line-height: 1; border-radius: 0.35em;\">\n",
       "    neutron\n",
       "    <span style=\"font-size: 0.8em; font-weight: bold; line-height: 1; border-radius: 0.35em; text-transform: uppercase; vertical-align: middle; margin-left: 0.5rem\">AstroTerm</span>\n",
       "</mark>\n",
       " stars that emit bright, coherent radio pulses. The GRB-like models predict a non-varying \n",
       "<mark class=\"entity\" style=\"background: linear-gradient(90deg, #aa9cfc, #fc9ce7); padding: 0.45em 0.6em; margin: 0 0.25em; line-height: 1; border-radius: 0.35em;\">\n",
       "    polarization\n",
       "    <span style=\"font-size: 0.8em; font-weight: bold; line-height: 1; border-radius: 0.35em; text-transform: uppercase; vertical-align: middle; margin-left: 0.5rem\">AstroTerm</span>\n",
       "</mark>\n",
       " angle within each burst whereas the pulsar-like models predict variations of the \n",
       "<mark class=\"entity\" style=\"background: linear-gradient(90deg, #aa9cfc, #fc9ce7); padding: 0.45em 0.6em; margin: 0 0.25em; line-height: 1; border-radius: 0.35em;\">\n",
       "    polarization\n",
       "    <span style=\"font-size: 0.8em; font-weight: bold; line-height: 1; border-radius: 0.35em; text-transform: uppercase; vertical-align: middle; margin-left: 0.5rem\">AstroTerm</span>\n",
       "</mark>\n",
       " angle.</br>The team used FAST to observe one repeating FRB source and discovered 11 bursts from it. Surprisingly, seven of the 11 bright bursts showed diverse \n",
       "<mark class=\"entity\" style=\"background: linear-gradient(90deg, #aa9cfc, #fc9ce7); padding: 0.45em 0.6em; margin: 0 0.25em; line-height: 1; border-radius: 0.35em;\">\n",
       "    polarization\n",
       "    <span style=\"font-size: 0.8em; font-weight: bold; line-height: 1; border-radius: 0.35em; text-transform: uppercase; vertical-align: middle; margin-left: 0.5rem\">AstroTerm</span>\n",
       "</mark>\n",
       " angle swings during each burst. The \n",
       "<mark class=\"entity\" style=\"background: linear-gradient(90deg, #aa9cfc, #fc9ce7); padding: 0.45em 0.6em; margin: 0 0.25em; line-height: 1; border-radius: 0.35em;\">\n",
       "    polarization\n",
       "    <span style=\"font-size: 0.8em; font-weight: bold; line-height: 1; border-radius: 0.35em; text-transform: uppercase; vertical-align: middle; margin-left: 0.5rem\">AstroTerm</span>\n",
       "</mark>\n",
       " angles not only varied in each burst, the variation patterns were also diverse among bursts.</br>&quot;Our observations essentially rules out the GRB-like models and offers support to the pulsar-like models,&quot; said K.-J. Lee from the Kavli Institute for Astronomy and Astrophysics, Peking University, and corresponding author of the paper.</br>Four other papers on FRBs were published in Nature on Nov. 4. These include multiple research articles published by the FAST team led by Zhang and collaborators from the National Astronomical Observatories of China and Peking University. Researchers affiliated with the Canadian Hydrogen Intensity Mapping Experiment (CHIME) and the Survey for Transient Astronomical Radio Emission 2 (STARE2) group also partnered on the publications.</br>&quot;Much like the first paper advanced our understanding of the mechanism behind FRBs, these papers solved the challenge of their mysterious origin,&quot; explained Zhang.</br>Magnetars are incredibly dense, city-sized \n",
       "<mark class=\"entity\" style=\"background: linear-gradient(90deg, #aa9cfc, #fc9ce7); padding: 0.45em 0.6em; margin: 0 0.25em; line-height: 1; border-radius: 0.35em;\">\n",
       "    neutron\n",
       "    <span style=\"font-size: 0.8em; font-weight: bold; line-height: 1; border-radius: 0.35em; text-transform: uppercase; vertical-align: middle; margin-left: 0.5rem\">AstroTerm</span>\n",
       "</mark>\n",
       " stars that possess the most powerful magnetic fields in the \n",
       "<mark class=\"entity\" style=\"background: linear-gradient(90deg, #aa9cfc, #fc9ce7); padding: 0.45em 0.6em; margin: 0 0.25em; line-height: 1; border-radius: 0.35em;\">\n",
       "    universe\n",
       "    <span style=\"font-size: 0.8em; font-weight: bold; line-height: 1; border-radius: 0.35em; text-transform: uppercase; vertical-align: middle; margin-left: 0.5rem\">AstroTerm</span>\n",
       "</mark>\n",
       ". Magnetars occasionally make short X-ray or soft \n",
       "<mark class=\"entity\" style=\"background: linear-gradient(90deg, #aa9cfc, #fc9ce7); padding: 0.45em 0.6em; margin: 0 0.25em; line-height: 1; border-radius: 0.35em;\">\n",
       "    gamma-ray\n",
       "    <span style=\"font-size: 0.8em; font-weight: bold; line-height: 1; border-radius: 0.35em; text-transform: uppercase; vertical-align: middle; margin-left: 0.5rem\">AstroTerm</span>\n",
       "</mark>\n",
       " bursts through dissipation of magnetic fields, so they have been long speculated as plausible sources to power FRBs during high-energy bursts.</br>The first conclusive evidence of this came on April 28, 2020, when an extremely bright radio burst was detected from a magnetar sitting right in our backyard -- at a distance of about 30,000 \n",
       "<mark class=\"entity\" style=\"background: linear-gradient(90deg, #aa9cfc, #fc9ce7); padding: 0.45em 0.6em; margin: 0 0.25em; line-height: 1; border-radius: 0.35em;\">\n",
       "    light\n",
       "    <span style=\"font-size: 0.8em; font-weight: bold; line-height: 1; border-radius: 0.35em; text-transform: uppercase; vertical-align: middle; margin-left: 0.5rem\">AstroTerm</span>\n",
       "</mark>\n",
       " years from Earth in the \n",
       "<mark class=\"entity\" style=\"background: linear-gradient(90deg, #aa9cfc, #fc9ce7); padding: 0.45em 0.6em; margin: 0 0.25em; line-height: 1; border-radius: 0.35em;\">\n",
       "    Milky Way Galaxy\n",
       "    <span style=\"font-size: 0.8em; font-weight: bold; line-height: 1; border-radius: 0.35em; text-transform: uppercase; vertical-align: middle; margin-left: 0.5rem\">AstroTerm</span>\n",
       "</mark>\n",
       ". As expected, the FRB was associated with a bright X-ray burst.</br>&quot;We now know that the most magnetized objects in the \n",
       "<mark class=\"entity\" style=\"background: linear-gradient(90deg, #aa9cfc, #fc9ce7); padding: 0.45em 0.6em; margin: 0 0.25em; line-height: 1; border-radius: 0.35em;\">\n",
       "    universe\n",
       "    <span style=\"font-size: 0.8em; font-weight: bold; line-height: 1; border-radius: 0.35em; text-transform: uppercase; vertical-align: middle; margin-left: 0.5rem\">AstroTerm</span>\n",
       "</mark>\n",
       ", the \n",
       "<mark class=\"entity\" style=\"background: linear-gradient(90deg, #aa9cfc, #fc9ce7); padding: 0.45em 0.6em; margin: 0 0.25em; line-height: 1; border-radius: 0.35em;\">\n",
       "    so-called\n",
       "    <span style=\"font-size: 0.8em; font-weight: bold; line-height: 1; border-radius: 0.35em; text-transform: uppercase; vertical-align: middle; margin-left: 0.5rem\">AstroTerm</span>\n",
       "</mark>\n",
       " magnetars, can produce at least some or possibly all FRBs in the \n",
       "<mark class=\"entity\" style=\"background: linear-gradient(90deg, #aa9cfc, #fc9ce7); padding: 0.45em 0.6em; margin: 0 0.25em; line-height: 1; border-radius: 0.35em;\">\n",
       "    universe\n",
       "    <span style=\"font-size: 0.8em; font-weight: bold; line-height: 1; border-radius: 0.35em; text-transform: uppercase; vertical-align: middle; margin-left: 0.5rem\">AstroTerm</span>\n",
       "</mark>\n",
       ",&quot; said Zhang.</br>The event was detected by CHIME and STARE2, two \n",
       "<mark class=\"entity\" style=\"background: linear-gradient(90deg, #aa9cfc, #fc9ce7); padding: 0.45em 0.6em; margin: 0 0.25em; line-height: 1; border-radius: 0.35em;\">\n",
       "    telescope\n",
       "    <span style=\"font-size: 0.8em; font-weight: bold; line-height: 1; border-radius: 0.35em; text-transform: uppercase; vertical-align: middle; margin-left: 0.5rem\">AstroTerm</span>\n",
       "</mark>\n",
       " arrays with many small radio telescopes that are suitable for detecting bright events from a large area of the sky.</br>Zhang's team has been using FAST to observe the magnetar source for some time. Unfortunately, when the FRB occurred, FAST was not looking at the source. Nonetheless, FAST made some intriguing &quot;non-detection&quot; discoveries and reported them in one of the Nov. 4 Nature articles. During the FAST observational campaign, there were another 29 X-ray bursts emitted from the magnetar. However, none of these bursts were accompanied by a radio burst.</br>&quot;Our non-detections and the detections by the CHIME and STARE2 teams delineate a complete picture of FRB-magnetar associations,&quot; Zhang said.</br>To put it all into perspective, Zhang also worked with Nature to publish a single-author \n",
       "<mark class=\"entity\" style=\"background: linear-gradient(90deg, #aa9cfc, #fc9ce7); padding: 0.45em 0.6em; margin: 0 0.25em; line-height: 1; border-radius: 0.35em;\">\n",
       "    review\n",
       "    <span style=\"font-size: 0.8em; font-weight: bold; line-height: 1; border-radius: 0.35em; text-transform: uppercase; vertical-align: middle; margin-left: 0.5rem\">AstroTerm</span>\n",
       "</mark>\n",
       " of the various discoveries and their implications for the field of \n",
       "<mark class=\"entity\" style=\"background: linear-gradient(90deg, #aa9cfc, #fc9ce7); padding: 0.45em 0.6em; margin: 0 0.25em; line-height: 1; border-radius: 0.35em;\">\n",
       "    astronomy\n",
       "    <span style=\"font-size: 0.8em; font-weight: bold; line-height: 1; border-radius: 0.35em; text-transform: uppercase; vertical-align: middle; margin-left: 0.5rem\">AstroTerm</span>\n",
       "</mark>\n",
       ".\n",
       "&quot;Thanks to recent observational breakthroughs, the FRB theories can finally be reviewed critically,&quot; said Zhang. &quot;The mechanisms of producing FRBs are greatly narrowed down. Yet, many open questions remain. This will be an exciting field in the years to come.&quot;</div></span>"
      ],
      "text/plain": [
       "<IPython.core.display.HTML object>"
      ]
     },
     "metadata": {},
     "output_type": "display_data"
    }
   ],
   "source": [
    "colors = {\"ASTROTERM\": \"linear-gradient(90deg, #aa9cfc, #fc9ce7)\"}\n",
    "options = {\"ents\": [\"ASTROTERM\"], \"colors\": colors}\n",
    "doc.user_data[\"title\"] = \"Nueral Network Based Model Performance\"\n",
    "displacy.render(doc_seq, style=\"ent\", options=options)"
   ]
  },
  {
   "cell_type": "code",
   "execution_count": 57,
   "metadata": {},
   "outputs": [
    {
     "data": {
      "text/html": [
       "<span class=\"tex2jax_ignore\"><h2 style=\"margin: 0\">Rule Based Model Performance</h2>\n",
       "\n",
       "<div class=\"entities\" style=\"line-height: 2.5; direction: ltr\">UNLV \n",
       "<mark class=\"entity\" style=\"background: linear-gradient(90deg, #f2e441, #ff8730); padding: 0.45em 0.6em; margin: 0 0.25em; line-height: 1; border-radius: 0.35em;\">\n",
       "    astrophysicist\n",
       "    <span style=\"font-size: 0.8em; font-weight: bold; line-height: 1; border-radius: 0.35em; text-transform: uppercase; vertical-align: middle; margin-left: 0.5rem\">AstroTerm</span>\n",
       "</mark>\n",
       " Bing Zhang and international collaborators recently observed some of these mysterious sources, which led to a series of breakthrough discoveries reported in the journal Nature that may finally shed \n",
       "<mark class=\"entity\" style=\"background: linear-gradient(90deg, #f2e441, #ff8730); padding: 0.45em 0.6em; margin: 0 0.25em; line-height: 1; border-radius: 0.35em;\">\n",
       "    light\n",
       "    <span style=\"font-size: 0.8em; font-weight: bold; line-height: 1; border-radius: 0.35em; text-transform: uppercase; vertical-align: middle; margin-left: 0.5rem\">AstroTerm</span>\n",
       "</mark>\n",
       " into the physical mechanism of FRBs.</br>The first paper, for which Zhang is a corresponding author and leading theorist, was published in the Oct. 28 issue of Nature.</br>&quot;There are two main questions regarding the origin of FRBs,&quot; said Zhang, whose team made the \n",
       "<mark class=\"entity\" style=\"background: linear-gradient(90deg, #f2e441, #ff8730); padding: 0.45em 0.6em; margin: 0 0.25em; line-height: 1; border-radius: 0.35em;\">\n",
       "    observation\n",
       "    <span style=\"font-size: 0.8em; font-weight: bold; line-height: 1; border-radius: 0.35em; text-transform: uppercase; vertical-align: middle; margin-left: 0.5rem\">AstroTerm</span>\n",
       "</mark>\n",
       " using the Five-hundred-meter Aperture Spherical Telescope (FAST) in Guizhou, China. &quot;The first is what are the engines of FRBs and the second is what is the mechanism to produce FRBs. We found the answer to the second question in this paper.&quot;</br>Two competing theories have been proposed to interpret the mechanism of FRBs. One theory is that they're similar to \n",
       "<mark class=\"entity\" style=\"background: linear-gradient(90deg, #f2e441, #ff8730); padding: 0.45em 0.6em; margin: 0 0.25em; line-height: 1; border-radius: 0.35em;\">\n",
       "    gamma-ray\n",
       "    <span style=\"font-size: 0.8em; font-weight: bold; line-height: 1; border-radius: 0.35em; text-transform: uppercase; vertical-align: middle; margin-left: 0.5rem\">AstroTerm</span>\n",
       "</mark>\n",
       " bursts (GRBs), the most powerful explosions in the \n",
       "<mark class=\"entity\" style=\"background: linear-gradient(90deg, #f2e441, #ff8730); padding: 0.45em 0.6em; margin: 0 0.25em; line-height: 1; border-radius: 0.35em;\">\n",
       "    universe\n",
       "    <span style=\"font-size: 0.8em; font-weight: bold; line-height: 1; border-radius: 0.35em; text-transform: uppercase; vertical-align: middle; margin-left: 0.5rem\">AstroTerm</span>\n",
       "</mark>\n",
       ". The other theory likens them more to radio pulsars, which are spinning \n",
       "<mark class=\"entity\" style=\"background: linear-gradient(90deg, #f2e441, #ff8730); padding: 0.45em 0.6em; margin: 0 0.25em; line-height: 1; border-radius: 0.35em;\">\n",
       "    neutron\n",
       "    <span style=\"font-size: 0.8em; font-weight: bold; line-height: 1; border-radius: 0.35em; text-transform: uppercase; vertical-align: middle; margin-left: 0.5rem\">AstroTerm</span>\n",
       "</mark>\n",
       " stars that emit bright, coherent radio pulses. The GRB-like models predict a non-varying \n",
       "<mark class=\"entity\" style=\"background: linear-gradient(90deg, #f2e441, #ff8730); padding: 0.45em 0.6em; margin: 0 0.25em; line-height: 1; border-radius: 0.35em;\">\n",
       "    polarization\n",
       "    <span style=\"font-size: 0.8em; font-weight: bold; line-height: 1; border-radius: 0.35em; text-transform: uppercase; vertical-align: middle; margin-left: 0.5rem\">AstroTerm</span>\n",
       "</mark>\n",
       " angle within each burst whereas the pulsar-like models predict variations of the \n",
       "<mark class=\"entity\" style=\"background: linear-gradient(90deg, #f2e441, #ff8730); padding: 0.45em 0.6em; margin: 0 0.25em; line-height: 1; border-radius: 0.35em;\">\n",
       "    polarization\n",
       "    <span style=\"font-size: 0.8em; font-weight: bold; line-height: 1; border-radius: 0.35em; text-transform: uppercase; vertical-align: middle; margin-left: 0.5rem\">AstroTerm</span>\n",
       "</mark>\n",
       " angle.</br>The team used FAST to observe one repeating FRB source and discovered 11 bursts from it. Surprisingly, seven of the 11 bright bursts showed diverse \n",
       "<mark class=\"entity\" style=\"background: linear-gradient(90deg, #f2e441, #ff8730); padding: 0.45em 0.6em; margin: 0 0.25em; line-height: 1; border-radius: 0.35em;\">\n",
       "    polarization\n",
       "    <span style=\"font-size: 0.8em; font-weight: bold; line-height: 1; border-radius: 0.35em; text-transform: uppercase; vertical-align: middle; margin-left: 0.5rem\">AstroTerm</span>\n",
       "</mark>\n",
       " angle swings during each burst. The \n",
       "<mark class=\"entity\" style=\"background: linear-gradient(90deg, #f2e441, #ff8730); padding: 0.45em 0.6em; margin: 0 0.25em; line-height: 1; border-radius: 0.35em;\">\n",
       "    polarization\n",
       "    <span style=\"font-size: 0.8em; font-weight: bold; line-height: 1; border-radius: 0.35em; text-transform: uppercase; vertical-align: middle; margin-left: 0.5rem\">AstroTerm</span>\n",
       "</mark>\n",
       " angles not only varied in each burst, the variation patterns were also diverse among bursts.</br>&quot;Our observations essentially rules out the GRB-like models and offers support to the pulsar-like models,&quot; said K.-J. Lee from the Kavli Institute for Astronomy and Astrophysics, Peking University, and corresponding author of the paper.</br>Four other papers on FRBs were published in Nature on Nov. 4. These include multiple research articles published by the FAST team led by Zhang and collaborators from the National Astronomical Observatories of China and Peking University. Researchers affiliated with the Canadian Hydrogen Intensity Mapping Experiment (CHIME) and the Survey for Transient Astronomical Radio Emission 2 (STARE2) group also partnered on the publications.</br>&quot;Much like the first paper advanced our understanding of the mechanism behind FRBs, these papers solved the challenge of their mysterious origin,&quot; explained Zhang.</br>Magnetars are incredibly dense, city-sized \n",
       "<mark class=\"entity\" style=\"background: linear-gradient(90deg, #f2e441, #ff8730); padding: 0.45em 0.6em; margin: 0 0.25em; line-height: 1; border-radius: 0.35em;\">\n",
       "    neutron\n",
       "    <span style=\"font-size: 0.8em; font-weight: bold; line-height: 1; border-radius: 0.35em; text-transform: uppercase; vertical-align: middle; margin-left: 0.5rem\">AstroTerm</span>\n",
       "</mark>\n",
       " stars that possess the most powerful magnetic fields in the \n",
       "<mark class=\"entity\" style=\"background: linear-gradient(90deg, #f2e441, #ff8730); padding: 0.45em 0.6em; margin: 0 0.25em; line-height: 1; border-radius: 0.35em;\">\n",
       "    universe\n",
       "    <span style=\"font-size: 0.8em; font-weight: bold; line-height: 1; border-radius: 0.35em; text-transform: uppercase; vertical-align: middle; margin-left: 0.5rem\">AstroTerm</span>\n",
       "</mark>\n",
       ". Magnetars occasionally make short X-ray or soft \n",
       "<mark class=\"entity\" style=\"background: linear-gradient(90deg, #f2e441, #ff8730); padding: 0.45em 0.6em; margin: 0 0.25em; line-height: 1; border-radius: 0.35em;\">\n",
       "    gamma-ray\n",
       "    <span style=\"font-size: 0.8em; font-weight: bold; line-height: 1; border-radius: 0.35em; text-transform: uppercase; vertical-align: middle; margin-left: 0.5rem\">AstroTerm</span>\n",
       "</mark>\n",
       " bursts through dissipation of magnetic fields, so they have been long speculated as plausible sources to power FRBs during high-energy bursts.</br>The first conclusive evidence of this came on April 28, 2020, when an extremely bright radio burst was detected from a magnetar sitting right in our backyard -- at a distance of about 30,000 \n",
       "<mark class=\"entity\" style=\"background: linear-gradient(90deg, #f2e441, #ff8730); padding: 0.45em 0.6em; margin: 0 0.25em; line-height: 1; border-radius: 0.35em;\">\n",
       "    light\n",
       "    <span style=\"font-size: 0.8em; font-weight: bold; line-height: 1; border-radius: 0.35em; text-transform: uppercase; vertical-align: middle; margin-left: 0.5rem\">AstroTerm</span>\n",
       "</mark>\n",
       " years from Earth in the \n",
       "<mark class=\"entity\" style=\"background: linear-gradient(90deg, #f2e441, #ff8730); padding: 0.45em 0.6em; margin: 0 0.25em; line-height: 1; border-radius: 0.35em;\">\n",
       "    Milky Way Galaxy\n",
       "    <span style=\"font-size: 0.8em; font-weight: bold; line-height: 1; border-radius: 0.35em; text-transform: uppercase; vertical-align: middle; margin-left: 0.5rem\">AstroTerm</span>\n",
       "</mark>\n",
       ". As expected, the FRB was associated with a bright X-ray burst.</br>&quot;We now know that the most magnetized objects in the \n",
       "<mark class=\"entity\" style=\"background: linear-gradient(90deg, #f2e441, #ff8730); padding: 0.45em 0.6em; margin: 0 0.25em; line-height: 1; border-radius: 0.35em;\">\n",
       "    universe\n",
       "    <span style=\"font-size: 0.8em; font-weight: bold; line-height: 1; border-radius: 0.35em; text-transform: uppercase; vertical-align: middle; margin-left: 0.5rem\">AstroTerm</span>\n",
       "</mark>\n",
       ", the \n",
       "<mark class=\"entity\" style=\"background: linear-gradient(90deg, #f2e441, #ff8730); padding: 0.45em 0.6em; margin: 0 0.25em; line-height: 1; border-radius: 0.35em;\">\n",
       "    so-called\n",
       "    <span style=\"font-size: 0.8em; font-weight: bold; line-height: 1; border-radius: 0.35em; text-transform: uppercase; vertical-align: middle; margin-left: 0.5rem\">AstroTerm</span>\n",
       "</mark>\n",
       " magnetars, can produce at least some or possibly all FRBs in the \n",
       "<mark class=\"entity\" style=\"background: linear-gradient(90deg, #f2e441, #ff8730); padding: 0.45em 0.6em; margin: 0 0.25em; line-height: 1; border-radius: 0.35em;\">\n",
       "    universe\n",
       "    <span style=\"font-size: 0.8em; font-weight: bold; line-height: 1; border-radius: 0.35em; text-transform: uppercase; vertical-align: middle; margin-left: 0.5rem\">AstroTerm</span>\n",
       "</mark>\n",
       ",&quot; said Zhang.</br>The event was detected by CHIME and STARE2, two \n",
       "<mark class=\"entity\" style=\"background: linear-gradient(90deg, #f2e441, #ff8730); padding: 0.45em 0.6em; margin: 0 0.25em; line-height: 1; border-radius: 0.35em;\">\n",
       "    telescope\n",
       "    <span style=\"font-size: 0.8em; font-weight: bold; line-height: 1; border-radius: 0.35em; text-transform: uppercase; vertical-align: middle; margin-left: 0.5rem\">AstroTerm</span>\n",
       "</mark>\n",
       " arrays with many small radio telescopes that are suitable for detecting bright events from a large area of the sky.</br>Zhang's team has been using FAST to observe the magnetar source for some time. Unfortunately, when the FRB occurred, FAST was not looking at the source. Nonetheless, FAST made some intriguing &quot;non-detection&quot; discoveries and reported them in one of the Nov. 4 Nature articles. During the FAST observational campaign, there were another 29 X-ray bursts emitted from the magnetar. However, none of these bursts were accompanied by a radio burst.</br>&quot;Our non-detections and the detections by the CHIME and STARE2 teams delineate a complete picture of FRB-magnetar associations,&quot; Zhang said.</br>To put it all into perspective, Zhang also worked with Nature to publish a single-author \n",
       "<mark class=\"entity\" style=\"background: linear-gradient(90deg, #f2e441, #ff8730); padding: 0.45em 0.6em; margin: 0 0.25em; line-height: 1; border-radius: 0.35em;\">\n",
       "    review\n",
       "    <span style=\"font-size: 0.8em; font-weight: bold; line-height: 1; border-radius: 0.35em; text-transform: uppercase; vertical-align: middle; margin-left: 0.5rem\">AstroTerm</span>\n",
       "</mark>\n",
       " of the various discoveries and their implications for the field of \n",
       "<mark class=\"entity\" style=\"background: linear-gradient(90deg, #f2e441, #ff8730); padding: 0.45em 0.6em; margin: 0 0.25em; line-height: 1; border-radius: 0.35em;\">\n",
       "    astronomy\n",
       "    <span style=\"font-size: 0.8em; font-weight: bold; line-height: 1; border-radius: 0.35em; text-transform: uppercase; vertical-align: middle; margin-left: 0.5rem\">AstroTerm</span>\n",
       "</mark>\n",
       ".\n",
       "&quot;Thanks to recent observational breakthroughs, the FRB theories can finally be reviewed critically,&quot; said Zhang. &quot;The mechanisms of producing FRBs are greatly narrowed down. Yet, many open questions remain. This will be an exciting field in the years to come.&quot;</div></span>"
      ],
      "text/plain": [
       "<IPython.core.display.HTML object>"
      ]
     },
     "metadata": {},
     "output_type": "display_data"
    }
   ],
   "source": [
    "colors = {\"ASTROTERM\": \"linear-gradient(90deg, #f2e441, #ff8730)\"}\n",
    "options = {\"ents\": [\"ASTROTERM\"], \"colors\": colors}\n",
    "doc.user_data[\"title\"] = \"Rule Based Model Performance\"\n",
    "displacy.render(doc, style=\"ent\", options=options, jupyter =True)"
   ]
  },
  {
   "cell_type": "code",
   "execution_count": 17,
   "metadata": {},
   "outputs": [],
   "source": [
    "# create list for visualization\n",
    "\n",
    "terms_nn = [[ter, val] for ter, val in zip(counter_nn.keys(),counter_nn.values())]\n",
    "terms_RB = [[ter, val] for ter, val in zip(counter.keys(),counter.values())]"
   ]
  },
  {
   "cell_type": "code",
   "execution_count": 18,
   "metadata": {},
   "outputs": [
    {
     "data": {
      "image/png": "[encoded data removed]",
      "text/plain": [
       "<Figure size 1080x720 with 1 Axes>"
      ]
     },
     "metadata": {
      "needs_background": "light"
     },
     "output_type": "display_data"
    }
   ],
   "source": [
    "dfs = [pd.DataFrame(np.array(lst), \n",
    "                    columns=['idx', i]).set_index('idx')\n",
    "          for i,lst in zip(['Sequence_tagger', 'Rulebased_tagger'],[terms_nn,terms_RB])]\n",
    "\n",
    "df = pd.concat(dfs, axis=1)\n",
    "\n",
    "ax = df.plot.bar()"
   ]
  },
  {
   "cell_type": "code",
   "execution_count": 63,
   "metadata": {},
   "outputs": [],
   "source": [
    "def frequency(dir_path):    \n",
    "\n",
    "    term_fre_seq = []\n",
    "    term_fre_rb = []\n",
    "    files = []\n",
    "\n",
    "    for filename in os.listdir(dir_path):\n",
    "        file = open(dir_path + filename)\n",
    "        text_test = file.read()\n",
    "\n",
    "        # run the neural network model\n",
    "        doc = nlp_seq(text_test)\n",
    "        entities = [(ent.text, ent.label_) for ent in doc.ents]\n",
    "        counter_nn = Counter(entities)\n",
    "\n",
    "\n",
    "        # run rule based model\n",
    "        doc = nlp_rule_based(text_test)\n",
    "        entities = [(ent.text, ent.label_) for ent in doc.ents]\n",
    "        counter = Counter(entities)\n",
    "\n",
    "        fre_nn = sum([val for val in counter_nn.values()])\n",
    "        fre_rb = sum([val for val in counter.values()])\n",
    "\n",
    "        term_fre_seq.append(fre_nn)\n",
    "        term_fre_rb.append(fre_rb)\n",
    "\n",
    "        files.append(filename)\n",
    "\n",
    "    return files, term_fre_seq, term_fre_rb\n",
    "        \n",
    "    \n",
    "    "
   ]
  },
  {
   "cell_type": "code",
   "execution_count": 64,
   "metadata": {},
   "outputs": [
    {
     "data": {
      "image/png": "[encoded data removed]",
      "text/plain": [
       "<Figure size 1080x720 with 1 Axes>"
      ]
     },
     "metadata": {
      "needs_background": "light"
     },
     "output_type": "display_data"
    }
   ],
   "source": [
    "# extract the freqencies of the term by both models\n",
    "filenames, term_fre_seq, term_fre_rb = frequency(\"test_corpus/\")\n",
    "\n",
    "\n",
    "x = np.arange(len(filenames))  # the label locations\n",
    "width = 0.35  # the width of the bars\n",
    "fig, ax = plt.subplots()\n",
    "rects1 = ax.bar(x - width/2, term_fre_seq, width, label='Sequence tagger')\n",
    "rects2 = ax.bar(x + width/2, term_fre_rb, width, label='Based-rule tagger')\n",
    "\n",
    "# Add some text for labels, title and custom x-axis tick labels, etc.\n",
    "ax.set_ylabel('Number of terms')\n",
    "ax.set_title('Number of terms by both models')\n",
    "ax.set_xticks(x)\n",
    "ax.set_xticklabels(filenames)\n",
    "ax.legend()\n",
    "\n",
    "def autolabel(rects):\n",
    "    \"\"\"Attach a text label above each bar in *rects*, displaying its height.\"\"\"\n",
    "    for rect in rects:\n",
    "        height = rect.get_height()\n",
    "        ax.annotate('{}'.format(height),\n",
    "                    xy=(rect.get_x() + rect.get_width() / 2, height),\n",
    "                    xytext=(0, 3),  # 3 points vertical offset\n",
    "                    textcoords=\"offset points\",\n",
    "                    ha='center', va='bottom')\n",
    "\n",
    "\n",
    "autolabel(rects1)\n",
    "autolabel(rects2)\n",
    "\n",
    "fig.tight_layout()\n",
    "\n",
    "plt.show()\n"
   ]
  },
  {
   "cell_type": "code",
   "execution_count": null,
   "metadata": {},
   "outputs": [],
   "source": []
  }
 ],
 "metadata": {
  "kernelspec": {
   "display_name": "tensorflow",
   "language": "python",
   "name": "tensorflow"
  },
  "language_info": {
   "codemirror_mode": {
    "name": "ipython",
    "version": 3
   },
   "file_extension": ".py",
   "mimetype": "text/x-python",
   "name": "python",
   "nbconvert_exporter": "python",
   "pygments_lexer": "ipython3",
   "version": "3.7.7"
  },
  "toc": {
   "base_numbering": 1,
   "nav_menu": {},
   "number_sections": true,
   "sideBar": true,
   "skip_h1_title": false,
   "title_cell": "Table of Contents",
   "title_sidebar": "Contents",
   "toc_cell": false,
   "toc_position": {},
   "toc_section_display": true,
   "toc_window_display": false
  }
 },
 "nbformat": 4,
 "nbformat_minor": 4
}
