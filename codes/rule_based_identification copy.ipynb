{
 "cells": [
  {
   "cell_type": "code",
   "execution_count": 1,
   "metadata": {},
   "outputs": [],
   "source": [
    "import os\n",
    "import pandas as pd\n",
    "import string"
   ]
  },
  {
   "cell_type": "code",
   "execution_count": 2,
   "metadata": {},
   "outputs": [],
   "source": [
    "f = pd.read_csv('../astronomy - Sheet.csv')"
   ]
  },
  {
   "cell_type": "code",
   "execution_count": 3,
   "metadata": {},
   "outputs": [
    {
     "output_type": "execute_result",
     "data": {
      "text/plain": [
       "      Unnamed: 0 type                      key  freq\n",
       "8201           T    n                     star  6455\n",
       "156            T    n                telescope  3893\n",
       "8416           T    n                    earth  2112\n",
       "20252          T    n                    light  2054\n",
       "3394           T    n                     moon  1893\n",
       "...          ...  ...                      ...   ...\n",
       "6576           T   nn                  faculae    10\n",
       "2345           T    n               flare star    10\n",
       "1237           T  aan     geosynchronous orbit    10\n",
       "47             T  aaa  hydrostatic equilibrium    10\n",
       "7259           T  nnn         irregular galaxy    10\n",
       "\n",
       "[986 rows x 4 columns]"
      ],
      "text/html": "<div>\n<style scoped>\n    .dataframe tbody tr th:only-of-type {\n        vertical-align: middle;\n    }\n\n    .dataframe tbody tr th {\n        vertical-align: top;\n    }\n\n    .dataframe thead th {\n        text-align: right;\n    }\n</style>\n<table border=\"1\" class=\"dataframe\">\n  <thead>\n    <tr style=\"text-align: right;\">\n      <th></th>\n      <th>Unnamed: 0</th>\n      <th>type</th>\n      <th>key</th>\n      <th>freq</th>\n    </tr>\n  </thead>\n  <tbody>\n    <tr>\n      <th>8201</th>\n      <td>T</td>\n      <td>n</td>\n      <td>star</td>\n      <td>6455</td>\n    </tr>\n    <tr>\n      <th>156</th>\n      <td>T</td>\n      <td>n</td>\n      <td>telescope</td>\n      <td>3893</td>\n    </tr>\n    <tr>\n      <th>8416</th>\n      <td>T</td>\n      <td>n</td>\n      <td>earth</td>\n      <td>2112</td>\n    </tr>\n    <tr>\n      <th>20252</th>\n      <td>T</td>\n      <td>n</td>\n      <td>light</td>\n      <td>2054</td>\n    </tr>\n    <tr>\n      <th>3394</th>\n      <td>T</td>\n      <td>n</td>\n      <td>moon</td>\n      <td>1893</td>\n    </tr>\n    <tr>\n      <th>...</th>\n      <td>...</td>\n      <td>...</td>\n      <td>...</td>\n      <td>...</td>\n    </tr>\n    <tr>\n      <th>6576</th>\n      <td>T</td>\n      <td>nn</td>\n      <td>faculae</td>\n      <td>10</td>\n    </tr>\n    <tr>\n      <th>2345</th>\n      <td>T</td>\n      <td>n</td>\n      <td>flare star</td>\n      <td>10</td>\n    </tr>\n    <tr>\n      <th>1237</th>\n      <td>T</td>\n      <td>aan</td>\n      <td>geosynchronous orbit</td>\n      <td>10</td>\n    </tr>\n    <tr>\n      <th>47</th>\n      <td>T</td>\n      <td>aaa</td>\n      <td>hydrostatic equilibrium</td>\n      <td>10</td>\n    </tr>\n    <tr>\n      <th>7259</th>\n      <td>T</td>\n      <td>nnn</td>\n      <td>irregular galaxy</td>\n      <td>10</td>\n    </tr>\n  </tbody>\n</table>\n<p>986 rows × 4 columns</p>\n</div>"
     },
     "metadata": {},
     "execution_count": 3
    }
   ],
   "source": [
    "f"
   ]
  },
  {
   "cell_type": "code",
   "execution_count": 4,
   "metadata": {},
   "outputs": [],
   "source": [
    "terms = list(f['key'].values)\n",
    "# terms"
   ]
  },
  {
   "cell_type": "code",
   "execution_count": 5,
   "metadata": {},
   "outputs": [],
   "source": [
    "f.set_index('key', inplace = True)\n"
   ]
  },
  {
   "cell_type": "code",
   "execution_count": 6,
   "metadata": {},
   "outputs": [
    {
     "output_type": "execute_result",
     "data": {
      "text/plain": [
       "True"
      ]
     },
     "metadata": {},
     "execution_count": 6
    }
   ],
   "source": [
    "# f.loc['dark sky']['Unnamed: 0'][0]\n",
    "'star' in f.index"
   ]
  },
  {
   "cell_type": "code",
   "execution_count": 7,
   "metadata": {},
   "outputs": [],
   "source": [
    "import spacy\n",
    "from spacy.matcher import PhraseMatcher"
   ]
  },
  {
   "cell_type": "code",
   "execution_count": 8,
   "metadata": {},
   "outputs": [],
   "source": [
    "nlp = spacy.load('en_core_web_sm')\n",
    "# matched_sents = []  # Collect data of matched sentences to be visualized\n",
    "\n",
    "def collect_sents(matcher, doc, i, matches):\n",
    "    match_id, start, end = matches[i]\n",
    "    span = doc[start:end]  # Matched span\n",
    "    sent = span.sent  # Sentence containing matched span\n",
    "    # Append mock entity for match in displaCy style to matched_sents\n",
    "    # get the match span by ofsetting the start and end of the span with the\n",
    "    # start and end of the sentence in the doc\n",
    "    # print (span)\n",
    "    # print (f.loc[str(span).lower()]['Unnamed: 0'][0])\n",
    "    modified_span = str(span).lower().translate(str.maketrans('', '',string.punctuation))\n",
    "    if modified_span in f.index:\n",
    "        match_ents = [{\n",
    "            \"start\": span.start_char - sent.start_char,\n",
    "            \"end\": span.end_char - sent.start_char,\n",
    "            # \"label\": \"AstroTerm\",\n",
    "        \n",
    "            \"label\": f.loc[modified_span]['Unnamed: 0'][0],\n",
    "        }]\n",
    "    else:\n",
    "        match_ents = [{\n",
    "            \"start\": span.start_char - sent.start_char,\n",
    "            \"end\": span.end_char - sent.start_char,\n",
    "            # \"label\": \"AstroTerm\",\n",
    "        \n",
    "            \"label\": 'anonymous',\n",
    "        }]\n",
    "    matched_sents.append({\"text\": sent.text, \"ents\": match_ents})\n",
    "\n"
   ]
  },
  {
   "cell_type": "code",
   "execution_count": 9,
   "metadata": {},
   "outputs": [],
   "source": [
    "matcher = PhraseMatcher(nlp.vocab)\n",
    "\n",
    "patterns = [nlp.make_doc(text) for text in terms]\n",
    "\n",
    "matcher.add(\"TerminologyList\", collect_sents, *patterns)"
   ]
  },
  {
   "cell_type": "code",
   "execution_count": 10,
   "metadata": {},
   "outputs": [],
   "source": [
    "test_file  = open(\"../corpus/Astromony_04.txt\", encoding='utf-8')\n",
    "text = test_file.read()\n",
    "# text"
   ]
  },
  {
   "cell_type": "code",
   "execution_count": 17,
   "metadata": {},
   "outputs": [
    {
     "output_type": "stream",
     "name": "stdout",
     "text": [
      "Match_By_Entity Ruler============================\n"
     ]
    },
    {
     "output_type": "error",
     "ename": "TypeError",
     "evalue": "'<' not supported between instances of 'str' and 'int'",
     "traceback": [
      "\u001b[1;31m---------------------------------------------------------------------------\u001b[0m",
      "\u001b[1;31mTypeError\u001b[0m                                 Traceback (most recent call last)",
      "\u001b[1;32m<ipython-input-17-28b1b5d581a9>\u001b[0m in \u001b[0;36m<module>\u001b[1;34m\u001b[0m\n\u001b[0;32m      4\u001b[0m \u001b[0mruler\u001b[0m \u001b[1;33m=\u001b[0m \u001b[0mEntityRuler\u001b[0m\u001b[1;33m(\u001b[0m\u001b[0mnlp\u001b[0m\u001b[1;33m)\u001b[0m\u001b[1;33m\u001b[0m\u001b[1;33m\u001b[0m\u001b[0m\n\u001b[0;32m      5\u001b[0m \u001b[0mprint\u001b[0m\u001b[1;33m(\u001b[0m\u001b[1;34m\"Match_By_Entity Ruler============================\"\u001b[0m\u001b[1;33m)\u001b[0m\u001b[1;33m\u001b[0m\u001b[1;33m\u001b[0m\u001b[0m\n\u001b[1;32m----> 6\u001b[1;33m \u001b[0mruler\u001b[0m\u001b[1;33m.\u001b[0m\u001b[0madd_patterns\u001b[0m\u001b[1;33m(\u001b[0m\u001b[0mpatterns\u001b[0m\u001b[1;33m)\u001b[0m\u001b[1;33m\u001b[0m\u001b[1;33m\u001b[0m\u001b[0m\n\u001b[0m\u001b[0;32m      7\u001b[0m \u001b[0mnlp\u001b[0m\u001b[1;33m.\u001b[0m\u001b[0madd_pipe\u001b[0m\u001b[1;33m(\u001b[0m\u001b[0mruler\u001b[0m\u001b[1;33m)\u001b[0m\u001b[1;33m\u001b[0m\u001b[1;33m\u001b[0m\u001b[0m\n\u001b[0;32m      8\u001b[0m \u001b[0mdoc\u001b[0m \u001b[1;33m=\u001b[0m \u001b[0mnlp\u001b[0m\u001b[1;33m(\u001b[0m\u001b[0mtext\u001b[0m\u001b[1;33m)\u001b[0m\u001b[1;33m\u001b[0m\u001b[1;33m\u001b[0m\u001b[0m\n",
      "\u001b[1;32mc:\\Users\\ramee\\Documents\\M2-NLP-UnivL\\Codes\\univL\\lib\\site-packages\\spacy\\pipeline\\entityruler.py\u001b[0m in \u001b[0;36madd_patterns\u001b[1;34m(self, patterns)\u001b[0m\n\u001b[0;32m    212\u001b[0m \u001b[1;33m\u001b[0m\u001b[0m\n\u001b[0;32m    213\u001b[0m             \u001b[1;32mfor\u001b[0m \u001b[0mentry\u001b[0m \u001b[1;32min\u001b[0m \u001b[0mpatterns\u001b[0m\u001b[1;33m:\u001b[0m\u001b[1;33m\u001b[0m\u001b[1;33m\u001b[0m\u001b[0m\n\u001b[1;32m--> 214\u001b[1;33m                 \u001b[1;32mif\u001b[0m \u001b[0misinstance\u001b[0m\u001b[1;33m(\u001b[0m\u001b[0mentry\u001b[0m\u001b[1;33m[\u001b[0m\u001b[1;34m\"pattern\"\u001b[0m\u001b[1;33m]\u001b[0m\u001b[1;33m,\u001b[0m \u001b[0mbasestring_\u001b[0m\u001b[1;33m)\u001b[0m\u001b[1;33m:\u001b[0m\u001b[1;33m\u001b[0m\u001b[1;33m\u001b[0m\u001b[0m\n\u001b[0m\u001b[0;32m    215\u001b[0m                     \u001b[0mphrase_pattern_labels\u001b[0m\u001b[1;33m.\u001b[0m\u001b[0mappend\u001b[0m\u001b[1;33m(\u001b[0m\u001b[0mentry\u001b[0m\u001b[1;33m[\u001b[0m\u001b[1;34m\"label\"\u001b[0m\u001b[1;33m]\u001b[0m\u001b[1;33m)\u001b[0m\u001b[1;33m\u001b[0m\u001b[1;33m\u001b[0m\u001b[0m\n\u001b[0;32m    216\u001b[0m                     \u001b[0mphrase_pattern_texts\u001b[0m\u001b[1;33m.\u001b[0m\u001b[0mappend\u001b[0m\u001b[1;33m(\u001b[0m\u001b[0mentry\u001b[0m\u001b[1;33m[\u001b[0m\u001b[1;34m\"pattern\"\u001b[0m\u001b[1;33m]\u001b[0m\u001b[1;33m)\u001b[0m\u001b[1;33m\u001b[0m\u001b[1;33m\u001b[0m\u001b[0m\n",
      "\u001b[1;32mdoc.pyx\u001b[0m in \u001b[0;36mspacy.tokens.doc.Doc.__getitem__\u001b[1;34m()\u001b[0m\n",
      "\u001b[1;31mTypeError\u001b[0m: '<' not supported between instances of 'str' and 'int'"
     ]
    }
   ],
   "source": [
    "from spacy.lang.en import English\n",
    "from spacy.pipeline import EntityRuler\n",
    "nlp = English()\n",
    "ruler = EntityRuler(nlp)\n",
    "print(\"Match_By_Entity Ruler============================\")\n",
    "ruler.add_patterns(patterns)\n",
    "nlp.add_pipe(ruler)\n",
    "doc = nlp(text)\n",
    "# patterns\n",
    "# matched_sents"
   ]
  },
  {
   "cell_type": "code",
   "execution_count": 11,
   "metadata": {},
   "outputs": [],
   "source": [
    "# text = open(\"../corpus/Astromony_04.txt\", encoding='utf-8')\n",
    "# text = text.read()\n"
   ]
  },
  {
   "cell_type": "code",
   "execution_count": 12,
   "metadata": {},
   "outputs": [],
   "source": [
    "# doc = nlp(text)\n",
    "# matches = matcher(doc)\n",
    "# for match_id, start, end in matches:\n",
    "#     span = doc[start:end]\n",
    "# #     print(span.text)"
   ]
  },
  {
   "cell_type": "code",
   "execution_count": 13,
   "metadata": {},
   "outputs": [],
   "source": [
    "# span\n",
    "nlp.max_length = 70000000000"
   ]
  },
  {
   "cell_type": "code",
   "execution_count": 14,
   "metadata": {},
   "outputs": [],
   "source": [
    "from spacy import displacy\n",
    "# displacy.render(matched_sents, style=\"ent\", manual=True)\n"
   ]
  },
  {
   "cell_type": "code",
   "execution_count": 15,
   "metadata": {
    "tags": []
   },
   "outputs": [
    {
     "output_type": "stream",
     "name": "stdout",
     "text": [
      "../corpus\\Astromony_04.txt\n",
      "../corpus\\Astromony_05.txt\n",
      "../corpus\\Astromony_06.txt\n",
      "../corpus\\Astromony_07.txt\n",
      "../corpus\\Astromony_08.txt\n",
      "../corpus\\Astromony_09.txt\n",
      "../corpus\\Astromony_11.txt\n",
      "../corpus\\Astromony_14.txt\n",
      "../corpus\\Astromony_15.txt\n",
      "../corpus\\Astromony_17.txt\n",
      "../corpus\\Astromony_18.txt\n",
      "../corpus\\Astromony_20.txt\n",
      "../corpus\\Astromony_22.txt\n",
      "../corpus\\Astromony_23.txt\n",
      "../corpus\\Astromony_24.txt\n",
      "../corpus\\Astromony_26.txt\n",
      "../corpus\\Astromony_27.txt\n",
      "../corpus\\Astromony_28.txt\n",
      "../corpus\\Astromony_29.txt\n",
      "../corpus\\Astromony_30.txt\n",
      "../corpus\\Astromony_31.txt\n",
      "../corpus\\Astromony_32.txt\n",
      "../corpus\\Astromony_35.txt\n",
      "../corpus\\Astromony_39.txt\n",
      "../corpus\\Astromony_40.txt\n",
      "../corpus\\Astromony_42.txt\n",
      "../corpus\\Astromony_43.txt\n",
      "../corpus\\Astromony_45.txt\n",
      "../corpus\\Astromony_47.txt\n",
      "../corpus\\Astromony_51.txt\n",
      "../corpus\\Astromony_55.txt\n",
      "../corpus\\Astromony_56.txt\n",
      "../corpus\\Astromony_57.txt\n",
      "../corpus\\Astromony_58.txt\n",
      "../corpus\\Astromony_59.txt\n",
      "../corpus\\Astromony_60.txt\n",
      "../corpus\\Astromony_61.txt\n",
      "../corpus\\Astromony_63.txt\n",
      "../corpus\\Astromony_64.txt\n",
      "../corpus\\Astromony_65.txt\n",
      "../corpus\\Astromony_66.txt\n",
      "../corpus\\Astromony_68.txt\n",
      "../corpus\\Astromony_69.txt\n",
      "../corpus\\Astromony_70.txt\n",
      "../corpus\\Astromony_71.txt\n",
      "../corpus\\Astromony_72.txt\n",
      "../corpus\\Astromony_73.txt\n",
      "../corpus\\Astromony_75.txt\n",
      "../corpus\\Astromony_77.txt\n",
      "../corpus\\Astromony_78.txt\n",
      "../corpus\\Astromony_81.txt\n",
      "../corpus\\Astromony_82.txt\n",
      "../corpus\\Astromony_83.txt\n",
      "../corpus\\Astromony_84.txt\n",
      "../corpus\\Astromony_85.txt\n",
      "../corpus\\Astromony_86.txt\n"
     ]
    }
   ],
   "source": [
    "import glob\n",
    "\n",
    "doc_files = []\n",
    "\n",
    "path = '../corpus'\n",
    "read_files = glob.glob( path + \"/*.txt\")\n",
    "\n",
    "# with open( path + \"/result.txt\", \"wb\") as outfile:\n",
    "#     for f in read_files:\n",
    "#         macthed_sents = []\n",
    "#         with open(f, \"rb\") as infile:\n",
    "#             outfile.write(infile.read())\n",
    "for file_name in read_files:\n",
    "    matched_sents = []\n",
    "    print(file_name)\n",
    "    with open(file_name, encoding='utf-8') as text:\n",
    "        text = text.read()\n",
    "        doc = nlp(text)\n",
    "        matches = matcher(doc)\n",
    "        doc_files.extend(matched_sents)\n",
    "    # break\n",
    "        "
   ]
  },
  {
   "cell_type": "code",
   "execution_count": null,
   "metadata": {},
   "outputs": [],
   "source": [
    "# doc_files"
   ]
  },
  {
   "cell_type": "code",
   "execution_count": 96,
   "metadata": {},
   "outputs": [],
   "source": []
  },
  {
   "cell_type": "code",
   "execution_count": null,
   "metadata": {},
   "outputs": [],
   "source": [
    "# matched_sents[:4]\n",
    "# file  = open(path + '/result.txt', encoding='utf-8')\n",
    "# text = file.read()\n",
    "# text\n",
    "\n",
    "# matched_sents = [] "
   ]
  },
  {
   "cell_type": "code",
   "execution_count": null,
   "metadata": {},
   "outputs": [],
   "source": [
    "# nlp.max_length = 70000000000\n",
    "# doc = nlp(text)\n",
    "# # create the PhraseMatcher object\n",
    "# matcher = PhraseMatcher(nlp.vocab, attr='LOWER')"
   ]
  },
  {
   "cell_type": "code",
   "execution_count": null,
   "metadata": {},
   "outputs": [],
   "source": []
  },
  {
   "cell_type": "code",
   "execution_count": 19,
   "metadata": {},
   "outputs": [],
   "source": [
    "# creating docs with files\n",
    "TRAIN_DATA = {}\n",
    "# LABEL = 'AstroTerm'\n",
    "dic_text_previous = \"\"\n",
    "inner_list = []\n",
    "ent_num = 0\n",
    "for dic in doc_files:\n",
    "    \n",
    "    dict_item = {}\n",
    "    \n",
    "    if dic['text'] == dic_text_previous:\n",
    "        ent_num += 1\n",
    "        inner_list.append((dic['ents'][0]['start'],dic['ents'][0]['end'],dic['ents'][0]['label']+str(ent_num)))\n",
    "    else:\n",
    "        ent_num = 0\n",
    "        inner_list = []\n",
    "        inner_list.append((dic['ents'][0]['start'],dic['ents'][0]['end'],dic['ents'][0]['label']))\n",
    "    dic_text_previous = dic['text']\n",
    "    dict_item['entities'] = inner_list\n",
    "    TRAIN_DATA[dic['text']] = dict_item\n",
    "\n",
    "\n",
    "TRAIN_DATA = [(k,v) for k,v in TRAIN_DATA.items()]"
   ]
  },
  {
   "cell_type": "code",
   "execution_count": 22,
   "metadata": {},
   "outputs": [],
   "source": [
    "# TRAIN_DATA = [(k,v) for k,v in TRAIN_DATA.items()]\n",
    "TRAIN_DATA\n",
    "import json\n",
    "\n",
    "with open('train_data.json', 'w') as f:\n",
    "    json.dump(TRAIN_DATA, f)"
   ]
  },
  {
   "cell_type": "code",
   "execution_count": 21,
   "metadata": {},
   "outputs": [
    {
     "output_type": "execute_result",
     "data": {
      "text/plain": [
       "(\"As usual, we've been deprived of clear sky viewing opportunities this winter and spring—all the more reason to start planning for the regional dark sky star parties.\",\n",
       " {'entities': [(143, 151, 'T'), (152, 156, 'T1')]})"
      ]
     },
     "metadata": {},
     "execution_count": 21
    }
   ],
   "source": [
    "# doc_files[0]\n",
    "TRAIN_DATA[0]"
   ]
  },
  {
   "cell_type": "code",
   "execution_count": null,
   "metadata": {},
   "outputs": [],
   "source": [
    "# # preprocess training data\n",
    "# TRAIN_DATA = []\n",
    "# LABEL = 'AstroTerm'\n",
    "# for dic in matched_sents:\n",
    "#     inner_list = []\n",
    "#     dict_item = {}\n",
    "#     inner_list.append((dic['ents'][0]['start'],dic['ents'][0]['end'],LABEL))\n",
    "#     dict_item['entities'] = inner_list\n",
    "#     TRAIN_DATA.append((dic['text'],dict_item,))"
   ]
  },
  {
   "cell_type": "code",
   "execution_count": 111,
   "metadata": {},
   "outputs": [],
   "source": [
    "nlp = spacy.blank(\"en\")\n",
    "n_iter = 100"
   ]
  },
  {
   "cell_type": "code",
   "execution_count": 112,
   "metadata": {},
   "outputs": [],
   "source": [
    "from __future__ import unicode_literals, print_function\n",
    "\n",
    "import plac\n",
    "import random\n",
    "import warnings\n",
    "from pathlib import Path\n",
    "# import spacy\n",
    "from spacy.util import minibatch, compounding"
   ]
  },
  {
   "cell_type": "code",
   "execution_count": 113,
   "metadata": {},
   "outputs": [],
   "source": [
    "if \"ner\" not in nlp.pipe_names:\n",
    "    ner = nlp.create_pipe(\"ner\")\n",
    "    nlp.add_pipe(ner, last=True)\n",
    "    \n",
    "    \n",
    "ner = nlp.get_pipe(\"ner\")\n",
    "\n",
    "for _, annotations in TRAIN_DATA:\n",
    "    for ent in annotations.get('entities'):\n",
    "        ner.add_label(ent[2])"
   ]
  },
  {
   "cell_type": "code",
   "execution_count": 115,
   "metadata": {},
   "outputs": [
    {
     "output_type": "stream",
     "name": "stderr",
     "text": [
      "c:\\Users\\ramee\\Documents\\M2-NLP-UnivL\\Codes\\univL\\lib\\site-packages\\spacy\\language.py:635: UserWarning: [W033] Training a new parser or NER using a model with no lexeme normalization table. This may degrade the performance of the model to some degree. If this is intentional or the language you're using doesn't have a normalization table, please ignore this warning. If this is surprising, make sure you have the spacy-lookups-data package installed. The languages with lexeme normalization tables are currently: da, de, el, en, id, lb, pt, ru, sr, ta, th.\n  proc.begin_training(\n"
     ]
    },
    {
     "output_type": "error",
     "ename": "ValueError",
     "evalue": "[E103] Trying to set conflicting doc.ents: '(62, 68, 'T2')' and '(62, 75, 'T3')'. A token can only be part of one entity, so make sure the entities you're setting don't overlap.",
     "traceback": [
      "\u001b[1;31m---------------------------------------------------------------------------\u001b[0m",
      "\u001b[1;31mValueError\u001b[0m                                Traceback (most recent call last)",
      "\u001b[1;32m<ipython-input-115-998a80b66931>\u001b[0m in \u001b[0;36m<module>\u001b[1;34m\u001b[0m\n\u001b[0;32m     16\u001b[0m             \u001b[1;32mfor\u001b[0m \u001b[0mbatch\u001b[0m \u001b[1;32min\u001b[0m \u001b[0mbatches\u001b[0m\u001b[1;33m:\u001b[0m\u001b[1;33m\u001b[0m\u001b[1;33m\u001b[0m\u001b[0m\n\u001b[0;32m     17\u001b[0m                 \u001b[0mtexts\u001b[0m\u001b[1;33m,\u001b[0m \u001b[0mannotations\u001b[0m \u001b[1;33m=\u001b[0m \u001b[0mzip\u001b[0m\u001b[1;33m(\u001b[0m\u001b[1;33m*\u001b[0m\u001b[0mbatch\u001b[0m\u001b[1;33m)\u001b[0m\u001b[1;33m\u001b[0m\u001b[1;33m\u001b[0m\u001b[0m\n\u001b[1;32m---> 18\u001b[1;33m                 nlp.update(\n\u001b[0m\u001b[0;32m     19\u001b[0m                     \u001b[0mtexts\u001b[0m\u001b[1;33m,\u001b[0m  \u001b[1;31m# batch of texts\u001b[0m\u001b[1;33m\u001b[0m\u001b[1;33m\u001b[0m\u001b[0m\n\u001b[0;32m     20\u001b[0m                     \u001b[0mannotations\u001b[0m\u001b[1;33m,\u001b[0m  \u001b[1;31m# batch of annotations\u001b[0m\u001b[1;33m\u001b[0m\u001b[1;33m\u001b[0m\u001b[0m\n",
      "\u001b[1;32mc:\\Users\\ramee\\Documents\\M2-NLP-UnivL\\Codes\\univL\\lib\\site-packages\\spacy\\language.py\u001b[0m in \u001b[0;36mupdate\u001b[1;34m(self, docs, golds, drop, sgd, losses, component_cfg)\u001b[0m\n\u001b[0;32m    508\u001b[0m             \u001b[0msgd\u001b[0m \u001b[1;33m=\u001b[0m \u001b[0mself\u001b[0m\u001b[1;33m.\u001b[0m\u001b[0m_optimizer\u001b[0m\u001b[1;33m\u001b[0m\u001b[1;33m\u001b[0m\u001b[0m\n\u001b[0;32m    509\u001b[0m         \u001b[1;31m# Allow dict of args to GoldParse, instead of GoldParse objects.\u001b[0m\u001b[1;33m\u001b[0m\u001b[1;33m\u001b[0m\u001b[1;33m\u001b[0m\u001b[0m\n\u001b[1;32m--> 510\u001b[1;33m         \u001b[0mdocs\u001b[0m\u001b[1;33m,\u001b[0m \u001b[0mgolds\u001b[0m \u001b[1;33m=\u001b[0m \u001b[0mself\u001b[0m\u001b[1;33m.\u001b[0m\u001b[0m_format_docs_and_golds\u001b[0m\u001b[1;33m(\u001b[0m\u001b[0mdocs\u001b[0m\u001b[1;33m,\u001b[0m \u001b[0mgolds\u001b[0m\u001b[1;33m)\u001b[0m\u001b[1;33m\u001b[0m\u001b[1;33m\u001b[0m\u001b[0m\n\u001b[0m\u001b[0;32m    511\u001b[0m         \u001b[0mgrads\u001b[0m \u001b[1;33m=\u001b[0m \u001b[1;33m{\u001b[0m\u001b[1;33m}\u001b[0m\u001b[1;33m\u001b[0m\u001b[1;33m\u001b[0m\u001b[0m\n\u001b[0;32m    512\u001b[0m \u001b[1;33m\u001b[0m\u001b[0m\n",
      "\u001b[1;32mc:\\Users\\ramee\\Documents\\M2-NLP-UnivL\\Codes\\univL\\lib\\site-packages\\spacy\\language.py\u001b[0m in \u001b[0;36m_format_docs_and_golds\u001b[1;34m(self, docs, golds)\u001b[0m\n\u001b[0;32m    480\u001b[0m                     \u001b[0merr\u001b[0m \u001b[1;33m=\u001b[0m \u001b[0mErrors\u001b[0m\u001b[1;33m.\u001b[0m\u001b[0mE151\u001b[0m\u001b[1;33m.\u001b[0m\u001b[0mformat\u001b[0m\u001b[1;33m(\u001b[0m\u001b[0munexp\u001b[0m\u001b[1;33m=\u001b[0m\u001b[0munexpected\u001b[0m\u001b[1;33m,\u001b[0m \u001b[0mexp\u001b[0m\u001b[1;33m=\u001b[0m\u001b[0mexpected_keys\u001b[0m\u001b[1;33m)\u001b[0m\u001b[1;33m\u001b[0m\u001b[1;33m\u001b[0m\u001b[0m\n\u001b[0;32m    481\u001b[0m                     \u001b[1;32mraise\u001b[0m \u001b[0mValueError\u001b[0m\u001b[1;33m(\u001b[0m\u001b[0merr\u001b[0m\u001b[1;33m)\u001b[0m\u001b[1;33m\u001b[0m\u001b[1;33m\u001b[0m\u001b[0m\n\u001b[1;32m--> 482\u001b[1;33m                 \u001b[0mgold\u001b[0m \u001b[1;33m=\u001b[0m \u001b[0mGoldParse\u001b[0m\u001b[1;33m(\u001b[0m\u001b[0mdoc\u001b[0m\u001b[1;33m,\u001b[0m \u001b[1;33m**\u001b[0m\u001b[0mgold\u001b[0m\u001b[1;33m)\u001b[0m\u001b[1;33m\u001b[0m\u001b[1;33m\u001b[0m\u001b[0m\n\u001b[0m\u001b[0;32m    483\u001b[0m             \u001b[0mdoc_objs\u001b[0m\u001b[1;33m.\u001b[0m\u001b[0mappend\u001b[0m\u001b[1;33m(\u001b[0m\u001b[0mdoc\u001b[0m\u001b[1;33m)\u001b[0m\u001b[1;33m\u001b[0m\u001b[1;33m\u001b[0m\u001b[0m\n\u001b[0;32m    484\u001b[0m             \u001b[0mgold_objs\u001b[0m\u001b[1;33m.\u001b[0m\u001b[0mappend\u001b[0m\u001b[1;33m(\u001b[0m\u001b[0mgold\u001b[0m\u001b[1;33m)\u001b[0m\u001b[1;33m\u001b[0m\u001b[1;33m\u001b[0m\u001b[0m\n",
      "\u001b[1;32mgold.pyx\u001b[0m in \u001b[0;36mspacy.gold.GoldParse.__init__\u001b[1;34m()\u001b[0m\n",
      "\u001b[1;32mgold.pyx\u001b[0m in \u001b[0;36mspacy.gold.biluo_tags_from_offsets\u001b[1;34m()\u001b[0m\n",
      "\u001b[1;31mValueError\u001b[0m: [E103] Trying to set conflicting doc.ents: '(62, 68, 'T2')' and '(62, 75, 'T3')'. A token can only be part of one entity, so make sure the entities you're setting don't overlap."
     ]
    }
   ],
   "source": [
    "# get names of other pipes to disable them during training\n",
    "pipe_exceptions = [\"ner\"]\n",
    "other_pipes = [pipe for pipe in nlp.pipe_names if pipe not in pipe_exceptions]\n",
    "# only train NER\n",
    "with nlp.disable_pipes(*other_pipes), warnings.catch_warnings():\n",
    "    # show warnings for misaligned entity spans once\n",
    "    warnings.filterwarnings(\"once\", category=UserWarning, module='spacy')\n",
    "    \n",
    "    nlp.begin_training()\n",
    "\n",
    "    for itn in range(n_iter):\n",
    "            random.shuffle(TRAIN_DATA)\n",
    "            losses = {}\n",
    "            # batch up the examples using spaCy's minibatch\n",
    "            batches = minibatch(TRAIN_DATA, size=compounding(4.0, 32.0, 1.001))\n",
    "            for batch in batches:\n",
    "                texts, annotations = zip(*batch)\n",
    "                nlp.update(\n",
    "                    texts,  # batch of texts\n",
    "                    annotations,  # batch of annotations\n",
    "                    drop=0.25,  # dropout - make it harder to memorise data\n",
    "                    losses=losses,\n",
    "                )\n",
    "            print(\"Losses\", losses)\n"
   ]
  },
  {
   "cell_type": "code",
   "execution_count": null,
   "metadata": {
    "tags": []
   },
   "outputs": [],
   "source": [
    "for text, _ in TRAIN_DATA:\n",
    "    doc = nlp(text)\n",
    "    print(\"Entities\", [(ent.text, ent.label_) for ent in doc.ents])\n",
    "    print(\"Tokens\", [(t.text, t.ent_type_, t.ent_iob) for t in doc])\n"
   ]
  },
  {
   "cell_type": "code",
   "execution_count": 36,
   "metadata": {},
   "outputs": [
    {
     "output_type": "stream",
     "name": "stdout",
     "text": [
      "Saved model to output_dir\n"
     ]
    }
   ],
   "source": [
    "output_dir = 'output_dir'\n",
    "nlp.to_disk(output_dir)\n",
    "print(\"Saved model to\", output_dir)"
   ]
  },
  {
   "cell_type": "code",
   "execution_count": 40,
   "metadata": {
    "tags": [
     "outputPrepend"
    ]
   },
   "outputs": [
    {
     "output_type": "stream",
     "name": "stdout",
     "text": [
      "), ('find', '', 2), ('the', '', 2), ('ratio', '', 2), ('of', '', 2), ('the', '', 2), ('distances', '', 2), ('of', '', 2), ('the', '', 2), ('sun', '', 2), ('and', '', 2), ('the', '', 2), ('moon', 'AstroTerm', 3), ('by', '', 2), ('geometrical', '', 2), ('analysis', '', 2), ('.', '', 2)]\n",
      "Entities [('dark sky', 'AstroTerm')]\n",
      "Tokens [('The', '', 2), ('Perseids', '', 2), ('are', '', 2), ('reliable', '', 2), (',', '', 2), ('better', '', 2), ('of', '', 2), ('course', '', 2), ('from', '', 2), ('a', '', 2), ('dark', 'AstroTerm', 3), ('sky', 'AstroTerm', 1), ('site', '', 2), ('like', '', 2), ('the', '', 2), ('Oregon', '', 2), ('Star', '', 2), ('Party', '', 2), (',', '', 2), ('but', '', 2), ('visible', '', 2), ('from', '', 2), ('local', '', 2), ('venues', '', 2), ('as', '', 2), ('well', '', 2), ('.', '', 2)]\n",
      "Entities []\n",
      "Tokens [('(', '', 2), ('That', '', 2), (\"'s\", '', 2), ('why', '', 2), ('the', '', 2), ('moon', '', 2), ('just', '', 2), ('covers', '', 2), ('the', '', 2), ('sun', '', 2), ('during', '', 2), ('a', '', 2), ('solar', '', 2), ('eclipse', '', 2), ('.', '', 2), (')', '', 2)]\n",
      "Entities [('moon', 'AstroTerm')]\n",
      "Tokens [('Next', '', 2), ('he', '', 2), ('measured', '', 2), ('the', '', 2), ('angular', '', 2), ('size', '', 2), ('of', '', 2), ('his', '', 2), ('thumbnail', '', 2), (',', '', 2), ('which', '', 2), ('just', '', 2), ('covered', '', 2), ('the', '', 2), ('moon', 'AstroTerm', 3), ('when', '', 2), ('he', '', 2), ('held', '', 2), ('it', '', 2), ('straight', '', 2), ('out', '', 2), (',', '', 2), ('and', '', 2), ('compared', '', 2), ('that', '', 2), ('with', '', 2), ('the', '', 2), ('distance', '', 2), ('from', '', 2), ('his', '', 2), ('eye', '', 2), ('to', '', 2), ('his', '', 2), ('nail', '', 2), (',', '', 2), ('giving', '', 2), ('him', '', 2), ('the', '', 2), ('answer', '', 2), ('that', '', 2), ('the', '', 2), ('width', '', 2), ('of', '', 2), ('his', '', 2), ('nail', '', 2), ('was', '', 2), ('100', '', 2), ('times', '', 2), ('smaller', '', 2), ('than', '', 2), ('that', '', 2), ('distance', '', 2), ('between', '', 2), ('his', '', 2), ('eye', '', 2), ('and', '', 2), ('his', '', 2), ('nail', '', 2), ('.', '', 2)]\n",
      "Entities [('light', 'AstroTerm')]\n",
      "Tokens [('The', '', 2), ('primary', '', 2), ('mirror', '', 2), ('has', '', 2), ('a', '', 2), ('concave', '', 2), ('surface', '', 2), ('which', '', 2), ('bounces', '', 2), ('light', '', 2), ('rays', '', 2), ('from', '', 2), ('the', '', 2), ('sky', '', 2), ('inward', '', 2), ('to', '', 2), ('create', '', 2), ('a', '', 2), ('cone', '', 2), ('of', '', 2), ('light', 'AstroTerm', 3), ('that', '', 2), ('forms', '', 2), ('a', '', 2), ('disk', '', 2), ('image', '', 2), ('.', '', 2)]\n",
      "Entities [('light', 'AstroTerm')]\n",
      "Tokens [('The', '', 2), ('primary', '', 2), ('mirror', '', 2), ('has', '', 2), ('a', '', 2), ('concave', '', 2), ('surface', '', 2), ('which', '', 2), ('bounces', '', 2), ('light', '', 2), ('rays', '', 2), ('from', '', 2), ('the', '', 2), ('sky', '', 2), ('inward', '', 2), ('to', '', 2), ('create', '', 2), ('a', '', 2), ('cone', '', 2), ('of', '', 2), ('light', 'AstroTerm', 3), ('that', '', 2), ('forms', '', 2), ('a', '', 2), ('disk', '', 2), ('image', '', 2), ('.', '', 2)]\n",
      "Entities [('star', 'AstroTerm')]\n",
      "Tokens [('4–Summer', '', 2), ('2010Quarterly', '', 2), ('The', '', 2), ('new', '', 2), ('club', '', 2), ('-', '', 2), ('built', '', 2), ('20', '', 2), ('\"', '', 2), ('Dobsonian', '', 2), ('telescope', '', 2), ('draws', '', 2), ('oohs', '', 2), ('and', '', 2), ('ahhs', '', 2), ('at', '', 2), ('our', '', 2), ('monthly', '', 2), ('star', 'AstroTerm', 3), ('parties', '', 2), ('for', '', 2), ('its', '', 2), ('impressive', '', 2), ('size', '', 2), (',', '', 2), ('wonderful', '', 2), ('views', '', 2), (',', '', 2), ('and', '', 2), ('beautiful', '', 2), ('woodwork', '', 2), ('.', '', 2)]\n",
      "Entities [('perpendicular', 'AstroTerm')]\n",
      "Tokens [('The', '', 2), ('Sun', '', 2), ('was', '', 2), ('directly', '', 2), ('above', '', 2), ('a', '', 2), ('deep', '', 2), ('well', '', 2), ('in', '', 2), ('Syene', '', 2), ('at', '', 2), ('noon', '', 2), ('on', '', 2), ('the', '', 2), ('summer', '', 2), ('solstice', '', 2), ('—', '', 2), ('at', '', 2), ('an', '', 2), ('angle', '', 2), ('of', '', 2), ('90', '', 2), ('°', '', 2), (',', '', 2), ('or', '', 2), ('perpendicular', 'AstroTerm', 3), ('to', '', 2), ('the', '', 2), ('Earth', '', 2), ('.', '', 2)]\n",
      "Entities [('ecliptic', 'AstroTerm')]\n",
      "Tokens [('Four', '', 2), ('first', '', 2), ('magnitude', '', 2), ('stars', '', 2), ('are', '', 2), ('visible', '', 2), ('near', '', 2), ('the', '', 2), ('ecliptic', 'AstroTerm', 3), (',', '', 2), ('Antares', '', 2), (',', '', 2), ('Spica', '', 2), (',', '', 2), ('Regulus', '', 2), (',', '', 2), ('and', '', 2), ('Pollux', '', 2), (',', '', 2), ('plus', '', 2), ('three', '', 2), ('bright', '', 2), ('planets', '', 2), (',', '', 2), ('Venus', '', 2), (',', '', 2), ('Mars', '', 2), (',', '', 2), ('and', '', 2), ('Saturn', '', 2), (',', '', 2), ('along', '', 2), ('with', '', 2), ('the', '', 2), ('bright', '', 2), ('stars', '', 2), ('of', '', 2), ('the', '', 2), ('Summer', '', 2), ('Triangle', '', 2), (',', '', 2), ('Vega', '', 2), (',', '', 2), ('Deneb', '', 2), ('and', '', 2), ('Altair', '', 2), (',', '', 2), ('and', '', 2), ('in', '', 2), ('the', '', 2), ('west', '', 2), (',', '', 2), ('Arcturus', '', 2), ('.', '', 2)]\n",
      "Entities [('astronomy', 'AstroTerm')]\n",
      "Tokens [('Anyone', '', 2), ('with', '', 2), ('an', '', 2), ('interest', '', 2), ('in', '', 2), ('astronomy', 'AstroTerm', 3), ('should', '', 2), ('pay', '', 2), ('our', '', 2), ('booth', '', 2), ('a', '', 2), ('visit', '', 2), ('.', '', 2)]\n",
      "Entities [('secondary mirror', 'AstroTerm')]\n",
      "Tokens [('A', '', 2), ('flat', '', 2), ('piece', '', 2), ('of', '', 2), ('oval', '', 2), ('glass', '', 2), (',', '', 2), ('called', '', 2), ('the', '', 2), ('secondary', 'AstroTerm', 3), ('mirror', 'AstroTerm', 1), (',', '', 2), ('suspended', '', 2), ('directly', '', 2), ('above', '', 2), ('the', '', 2), ('primary', '', 2), ('mirror', '', 2), ('and', '', 2), ('held', '', 2), ('at', '', 2), ('a', '', 2), ('45', '', 2), ('°', '', 2), ('angle', '', 2), (',', '', 2), ('bounces', '', 2), ('the', '', 2), ('cone', '', 2), ('of', '', 2), ('light', '', 2), ('sideways', '', 2), ('into', '', 2), ('the', '', 2), ('focuser', '', 2), ('where', '', 2), ('the', '', 2), ('disk', '', 2), ('image', '', 2), ('can', '', 2), ('be', '', 2), ('viewed', '', 2), ('with', '', 2), ('an', '', 2), ('eyepiece', '', 2), ('.', '', 2)]\n",
      "Entities []\n",
      "Tokens [('Aristarchus', '', 2), ('had', '', 2), ('timed', '', 2), ('the', '', 2), ('Moon', '', 2), (\"'s\", '', 2), ('movement', '', 2), ('through', '', 2), ('the', '', 2), ('Earth', '', 2), (\"'s\", '', 2), ('shadow', '', 2), ('in', '', 2), ('a', '', 2), ('total', '', 2), ('lunar', '', 2), ('eclipse', '', 2), ('and', '', 2), ('found', '', 2), ('that', '', 2), ('the', '', 2), ('shadow', '', 2), ('was', '', 2), ('8/3', '', 2), ('bigger', '', 2), ('than', '', 2), ('the', '', 2), ('Moon', '', 2), ('.', '', 2)]\n",
      "Entities [('galaxy', 'AstroTerm')]\n",
      "Tokens [('The', '', 2), ('Cigar', '', 2), ('Galaxy', '', 2), ('M82', '', 2), ('Spiral', '', 2), ('galaxy', '', 2), ('M63', '', 2), (',', '', 2), ('the', '', 2), ('Sunflower', '', 2), ('Galaxy', '', 2), (',', '', 2), ('in', '', 2), ('Canes', '', 2), ('Venatici', '', 2), ('Planetary', '', 2), ('nebula', '', 2), ('M97', '', 2), ('in', '', 2), ('Ursa', '', 2), ('Major', '', 2), ('9–Summer', '', 2), ('2010Quarterly', '', 2), ('Spiral', '', 2), ('galaxy', 'AstroTerm', 3), ('M108', '', 2), ('in', '', 2), ('Ursa', '', 2), ('Major', '', 2)]\n",
      "Entities [('universe', 'AstroTerm')]\n",
      "Tokens [('Hopefully', '', 2), (',', '', 2), ('the', '', 2), ('camera', '', 2), ('will', '', 2), ('be', '', 2), ('back', '', 2), (',', '', 2), ('the', '', 2), ('color', '', 2), ('wheel', '', 2), ('will', '', 2), ('arrive', '', 2), (',', '', 2), ('the', '', 2), ('clouds', '', 2), ('will', '', 2), ('part', '', 2), ('and', '', 2), ('all', '', 2), ('will', '', 2), ('be', '', 2), ('well', '', 2), ('in', '', 2), ('the', '', 2), ('universe', 'AstroTerm', 3), ('.', '', 2)]\n",
      "Entities [('space', 'AstroTerm')]\n",
      "Tokens [('We', '', 2), ('sometimes', '', 2), ('forget', '', 2), ('that', '', 2), ('we', '', 2), ('relate', '', 2), ('what', '', 2), ('we', '', 2), ('measure', '', 2), ('out', '', 2), ('in', '', 2), ('space', 'AstroTerm', 3), ('to', '', 2), ('the', '', 2), ('size', '', 2), ('of', '', 2), ('the', '', 2), ('Earth', '', 2), ('.', '', 2)]\n",
      "Entities []\n",
      "Tokens [('Eratosthenes', '', 2), ('also', '', 2), ('measured', '', 2), ('the', '', 2), ('time', '', 2), ('it', '', 2), ('took', '', 2), ('the', '', 2), ('Moon', '', 2), ('to', '', 2), ('go', '', 2), ('through', '', 2), ('the', '', 2), ('shadow', '', 2), ('of', '', 2), ('the', '', 2), ('Earth', '', 2), ('during', '', 2), ('a', '', 2), ('total', '', 2), ('lunar', '', 2), ('eclipse', '', 2), ('.', '', 2)]\n",
      "Entities []\n",
      "Tokens [('universe', '', 2), ('into', '', 2), ('your', '', 2), ('home', '', 2), (',', '', 2), ('courtesy', '', 2), ('of', '', 2), ('a', '', 2), ('company', '', 2), ('that', '', 2), ('recreates', '', 2), ('the', '', 2), ('night', '', 2), ('sky', '', 2), ('of', '', 2), ('your', '', 2), ('choice', '', 2), ('on', '', 2), ('your', '', 2), ('very', '', 2), ('own', '', 2), ('ceiling', '', 2), ('.', '', 2)]\n",
      "Entities []\n",
      "Tokens [('So', '', 2), (',', '', 2), ('on', '', 2), ('the', '', 2), ('solstice', '', 2), ('about', '', 2), ('2,250', '', 2), ('years', '', 2), ('ago', '', 2), ('this', '', 2), ('June', '', 2), (',', '', 2), ('Eratosthenes', '', 2), ('set', '', 2), ('up', '', 2), ('a', '', 2), ('perpendicular', '', 2), ('stick', '', 2), ('in', '', 2), ('Alexandria', '', 2), ('and', '', 2), ('found', '', 2), ('the', '', 2), ('angle', '', 2), ('of', '', 2), ('the', '', 2), ('shadow', '', 2), ('there', '', 2), ('to', '', 2), ('be', '', 2), ('not', '', 2), ('90', '', 2), ('°', '', 2), ('but', '', 2), ('82.8', '', 2), ('°', '', 2), ('.', '', 2)]\n",
      "Entities [('star', 'AstroTerm')]\n",
      "Tokens [('Later', '', 2), ('in', '', 2), ('the', '', 2), ('evening', '', 2), (',', '', 2), ('once', '', 2), ('the', '', 2), ('primary', '', 2), ('mirror', '', 2), ('had', '', 2), ('cooled', '', 2), ('to', '', 2), ('ambient', '', 2), ('air', '', 2), ('temperature', '', 2), ('and', '', 2), ('it', '', 2), ('was', '', 2), ('apparent', '', 2), ('that', '', 2), ('the', '', 2), ('seeing', '', 2), ('conditions', '', 2), ('were', '', 2), ('very', '', 2), ('good', '', 2), (',', '', 2), ('collimation', '', 2), ('using', '', 2), ('a', '', 2), ('defocused', '', 2), ('star', 'AstroTerm', 3), ('took', '', 2), ('just', '', 2), ('a', '', 2), ('few', '', 2), ('minutes', '', 2), ('and', '', 2), ('gave', '', 2), ('us', '', 2), ('wonderful', '', 2), ('views', '', 2), ('of', '', 2), ('Saturn', '', 2), ('and', '', 2), ('four', '', 2), ('of', '', 2), ('its', '', 2), ('moons', '', 2), ('.', '', 2)]\n",
      "Entities [('back', 'AstroTerm')]\n",
      "Tokens [('Once', '', 2), ('I', '', 2), ('am', '', 2), ('back', 'AstroTerm', 3), ('in', '', 2), ('business', '', 2), (',', '', 2), ('I', '', 2), ('will', '', 2), ('be', '', 2), ('doing', '', 2), ('some', '', 2), ('experimentation', '', 2), ('with', '', 2), ('some', '', 2), ('new', '', 2), ('software', '', 2), (',', '', 2), ('polar', '', 2), ('alignment', '', 2), ('techniques', '', 2), (',', '', 2), ('and', '', 2), ('processing', '', 2), ('techniques', '', 2), ('.', '', 2)]\n",
      "Entities [('galaxy', 'AstroTerm')]\n",
      "Tokens [('The', '', 2), ('Cigar', '', 2), ('Galaxy', '', 2), ('M82', '', 2), ('Spiral', '', 2), ('galaxy', '', 2), ('M63', '', 2), (',', '', 2), ('the', '', 2), ('Sunflower', '', 2), ('Galaxy', '', 2), (',', '', 2), ('in', '', 2), ('Canes', '', 2), ('Venatici', '', 2), ('Planetary', '', 2), ('nebula', '', 2), ('M97', '', 2), ('in', '', 2), ('Ursa', '', 2), ('Major', '', 2), ('9–Summer', '', 2), ('2010Quarterly', '', 2), ('Spiral', '', 2), ('galaxy', 'AstroTerm', 3), ('M108', '', 2), ('in', '', 2), ('Ursa', '', 2), ('Major', '', 2)]\n",
      "Entities [('star', 'AstroTerm')]\n",
      "Tokens [('Later', '', 2), ('in', '', 2), ('the', '', 2), ('evening', '', 2), (',', '', 2), ('once', '', 2), ('the', '', 2), ('primary', '', 2), ('mirror', '', 2), ('had', '', 2), ('cooled', '', 2), ('to', '', 2), ('ambient', '', 2), ('air', '', 2), ('temperature', '', 2), ('and', '', 2), ('it', '', 2), ('was', '', 2), ('apparent', '', 2), ('that', '', 2), ('the', '', 2), ('seeing', '', 2), ('conditions', '', 2), ('were', '', 2), ('very', '', 2), ('good', '', 2), (',', '', 2), ('collimation', '', 2), ('using', '', 2), ('a', '', 2), ('defocused', '', 2), ('star', 'AstroTerm', 3), ('took', '', 2), ('just', '', 2), ('a', '', 2), ('few', '', 2), ('minutes', '', 2), ('and', '', 2), ('gave', '', 2), ('us', '', 2), ('wonderful', '', 2), ('views', '', 2), ('of', '', 2), ('Saturn', '', 2), ('and', '', 2), ('four', '', 2), ('of', '', 2), ('its', '', 2), ('moons', '', 2), ('.', '', 2)]\n",
      "Entities []\n",
      "Tokens [('At', '', 2), ('our', '', 2), ('last', '', 2), ('star', '', 2), ('party', '', 2), ('rough', '', 2), ('collimation', '', 2), ('took', '', 2), ('about', '', 2), ('five', '', 2), ('minutes', '', 2), ('once', '', 2), ('the', '', 2), ('scope', '', 2), ('was', '', 2), ('set', '', 2), ('up', '', 2), (',', '', 2), ('and', '', 2), ('all', '', 2), ('without', '', 2), ('having', '', 2), ('to', '', 2), ('kneel', '', 2), ('on', '', 2), ('the', '', 2), ('ground', '', 2), ('.', '', 2)]\n",
      "Entities [('star', 'AstroTerm')]\n",
      "Tokens [('The', '', 2), ('monthly', '', 2), ('planetarium', '', 2), ('shows', '', 2), ('will', '', 2), ('continue', '', 2), ('through', '', 2), ('the', '', 2), ('summer', '', 2), (',', '', 2), ('and', '', 2), ('if', '', 2), ('the', '', 2), ('weather', '', 2), ('cooperates', '', 2), (',', '', 2), ('be', '', 2), ('paired', '', 2), ('with', '', 2), ('star', 'AstroTerm', 3), ('parties', '', 2), ('.', '', 2)]\n",
      "Entities [('courtesy', 'AstroTerm')]\n",
      "Tokens [('Mt.', '', 2), ('Bachelor', '', 2), ('Star', '', 2), ('Party', '', 2), ('www.mbsp.org', '', 2), ('Ceres', '', 2), ('courtesy', 'AstroTerm', 3), ('NASA', '', 2), ('Th', '', 2), ('e', '', 2), ('Sum', '', 2), ('m', '', 2), ('er', '', 2), ('Triangle', '', 2), ('2–Summer', '', 2), ('2010Quarterly', '', 2), ('CALENDAR', '', 2), (',', '', 2), (\"con't\", '', 2), ('from', '', 2), ('p.1', '', 2)]\n",
      "Entities []\n",
      "Tokens [('If', '', 2), ('the', '', 2), ('defocused', '', 2), ('image', '', 2), ('of', '', 2), ('the', '', 2), ('star', '', 2), ('is', '', 2), ('centered', '', 2), ('in', '', 2), ('the', '', 2), ('field', '', 2), ('of', '', 2), ('view', '', 2), ('and', '', 2), ('the', '', 2), ('shadow', '', 2), ('of', '', 2), ('the', '', 2), ('secondary', '', 2), ('mirror', '', 2), ('is', '', 2), ('centered', '', 2), ('in', '', 2), ('the', '', 2), ('blurry', '', 2), ('image', '', 2), ('of', '', 2), ('the', '', 2), ('star', '', 2), ('then', '', 2), ('you', '', 2), ('know', '', 2), ('your', '', 2), ('telescope', '', 2), ('is', '', 2), ('well', '', 2), ('collimated', '', 2), ('.', '', 2)]\n",
      "Entities []\n",
      "Tokens [('At', '', 2), ('our', '', 2), ('last', '', 2), ('star', '', 2), ('party', '', 2), ('rough', '', 2), ('collimation', '', 2), ('took', '', 2), ('about', '', 2), ('five', '', 2), ('minutes', '', 2), ('once', '', 2), ('the', '', 2), ('scope', '', 2), ('was', '', 2), ('set', '', 2), ('up', '', 2), (',', '', 2), ('and', '', 2), ('all', '', 2), ('without', '', 2), ('having', '', 2), ('to', '', 2), ('kneel', '', 2), ('on', '', 2), ('the', '', 2), ('ground', '', 2), ('.', '', 2)]\n",
      "Entities []\n",
      "Tokens [('But', '', 2), ('for', '', 2), ('telescope', '', 2), ('geeks', '', 2), (',', '', 2), ('especially', '', 2), ('amateur', '', 2), ('telescope', '', 2), ('makers', '', 2), (',', '', 2), ('much', '', 2), ('of', '', 2), ('the', '', 2), ('telescope', '', 2), (\"'s\", '', 2), ('beauty', '', 2), ('lies', '', 2), ('hidden', '', 2), ('.', '', 2)]\n",
      "Entities [('star', 'AstroTerm')]\n",
      "Tokens [('4–Summer', '', 2), ('2010Quarterly', '', 2), ('The', '', 2), ('new', '', 2), ('club', '', 2), ('-', '', 2), ('built', '', 2), ('20', '', 2), ('\"', '', 2), ('Dobsonian', '', 2), ('telescope', '', 2), ('draws', '', 2), ('oohs', '', 2), ('and', '', 2), ('ahhs', '', 2), ('at', '', 2), ('our', '', 2), ('monthly', '', 2), ('star', 'AstroTerm', 3), ('parties', '', 2), ('for', '', 2), ('its', '', 2), ('impressive', '', 2), ('size', '', 2), (',', '', 2), ('wonderful', '', 2), ('views', '', 2), (',', '', 2), ('and', '', 2), ('beautiful', '', 2), ('woodwork', '', 2), ('.', '', 2)]\n",
      "Entities [('collimation', 'AstroTerm')]\n",
      "Tokens [('In', '', 2), ('this', '', 2), ('way', '', 2), ('we', '', 2), ('can', '', 2), ('adjust', '', 2), ('the', '', 2), ('collimation', 'AstroTerm', 3), ('of', '', 2), ('the', '', 2), ('primary', '', 2), ('mirror', '', 2), ('while', '', 2), ('standing', '', 2), ('on', '', 2), ('the', '', 2), ('ground', '', 2), ('and', '', 2), (',', '', 2), ('better', '', 2), ('yet', '', 2), (',', '', 2), ('because', '', 2), ('of', '', 2), ('the', '', 2), ('bamboo', '', 2), ('poles', '', 2), (',', '', 2), ('while', '', 2), ('viewing', '', 2), ('through', '', 2), ('the', '', 2), ('eyepiece', '', 2), ('.', '', 2)]\n",
      "Entities [('star', 'AstroTerm')]\n",
      "Tokens [('Later', '', 2), ('in', '', 2), ('the', '', 2), ('evening', '', 2), (',', '', 2), ('once', '', 2), ('the', '', 2), ('primary', '', 2), ('mirror', '', 2), ('had', '', 2), ('cooled', '', 2), ('to', '', 2), ('ambient', '', 2), ('air', '', 2), ('temperature', '', 2), ('and', '', 2), ('it', '', 2), ('was', '', 2), ('apparent', '', 2), ('that', '', 2), ('the', '', 2), ('seeing', '', 2), ('conditions', '', 2), ('were', '', 2), ('very', '', 2), ('good', '', 2), (',', '', 2), ('collimation', '', 2), ('using', '', 2), ('a', '', 2), ('defocused', '', 2), ('star', 'AstroTerm', 3), ('took', '', 2), ('just', '', 2), ('a', '', 2), ('few', '', 2), ('minutes', '', 2), ('and', '', 2), ('gave', '', 2), ('us', '', 2), ('wonderful', '', 2), ('views', '', 2), ('of', '', 2), ('Saturn', '', 2), ('and', '', 2), ('four', '', 2), ('of', '', 2), ('its', '', 2), ('moons', '', 2), ('.', '', 2)]\n",
      "Entities []\n",
      "Tokens [('(', '', 2), ('That', '', 2), (\"'s\", '', 2), ('why', '', 2), ('the', '', 2), ('moon', '', 2), ('just', '', 2), ('covers', '', 2), ('the', '', 2), ('sun', '', 2), ('during', '', 2), ('a', '', 2), ('solar', '', 2), ('eclipse', '', 2), ('.', '', 2), (')', '', 2)]\n",
      "Entities []\n",
      "Tokens [('If', '', 2), ('the', '', 2), ('defocused', '', 2), ('image', '', 2), ('of', '', 2), ('the', '', 2), ('star', '', 2), ('is', '', 2), ('centered', '', 2), ('in', '', 2), ('the', '', 2), ('field', '', 2), ('of', '', 2), ('view', '', 2), ('and', '', 2), ('the', '', 2), ('shadow', '', 2), ('of', '', 2), ('the', '', 2), ('secondary', '', 2), ('mirror', '', 2), ('is', '', 2), ('centered', '', 2), ('in', '', 2), ('the', '', 2), ('blurry', '', 2), ('image', '', 2), ('of', '', 2), ('the', '', 2), ('star', '', 2), ('then', '', 2), ('you', '', 2), ('know', '', 2), ('your', '', 2), ('telescope', '', 2), ('is', '', 2), ('well', '', 2), ('collimated', '', 2), ('.', '', 2)]\n",
      "Entities [('star', 'AstroTerm')]\n",
      "Tokens [('—', '', 2), ('Stephen', '', 2), ('Ruhl', '', 2), ('\"', '', 2), ('We', '', 2), ('are', '', 2), ('all', '', 2), ('made', '', 2), ('of', '', 2), ('star', 'AstroTerm', 3), ('stuff', '', 2), ('.', '', 2)]\n",
      "Entities [('back', 'AstroTerm')]\n",
      "Tokens [('Once', '', 2), ('I', '', 2), ('am', '', 2), ('back', 'AstroTerm', 3), ('in', '', 2), ('business', '', 2), (',', '', 2), ('I', '', 2), ('will', '', 2), ('be', '', 2), ('doing', '', 2), ('some', '', 2), ('experimentation', '', 2), ('with', '', 2), ('some', '', 2), ('new', '', 2), ('software', '', 2), (',', '', 2), ('polar', '', 2), ('alignment', '', 2), ('techniques', '', 2), (',', '', 2), ('and', '', 2), ('processing', '', 2), ('techniques', '', 2), ('.', '', 2)]\n",
      "Entities []\n",
      "Tokens [('But', '', 2), ('for', '', 2), ('telescope', '', 2), ('geeks', '', 2), (',', '', 2), ('especially', '', 2), ('amateur', '', 2), ('telescope', '', 2), ('makers', '', 2), (',', '', 2), ('much', '', 2), ('of', '', 2), ('the', '', 2), ('telescope', '', 2), (\"'s\", '', 2), ('beauty', '', 2), ('lies', '', 2), ('hidden', '', 2), ('.', '', 2)]\n"
     ]
    }
   ],
   "source": [
    "print(\"Loading from\", output_dir)\n",
    "nlp2 = spacy.load(output_dir)\n",
    "for text, _ in TRAIN_DATA:\n",
    "    doc = nlp2(text)\n",
    "    print(\"Entities\", [(ent.text, ent.label_) for ent in doc.ents])\n",
    "    print(\"Tokens\", [(t.text, t.ent_type_, t.ent_iob) for t in doc])\n",
    "\n"
   ]
  },
  {
   "cell_type": "code",
   "execution_count": 80,
   "metadata": {},
   "outputs": [],
   "source": [
    "# with open('../corpus/test/test1.txt', 'r') as f:\n",
    "#     lines = f.readlines()\n",
    "# test = ' '.join(lines)\n",
    "\n",
    "test = open('../corpus/Astromony_04.txt',encoding='utf-8')\n",
    "test = test.read()\n",
    "doc = nlp2(test)\n",
    "# test\n",
    "# doc"
   ]
  },
  {
   "cell_type": "code",
   "execution_count": 81,
   "metadata": {},
   "outputs": [
    {
     "output_type": "display_data",
     "data": {
      "text/plain": "<IPython.core.display.HTML object>",
      "text/html": "<span class=\"tex2jax_ignore\"><div class=\"entities\" style=\"line-height: 2.5; direction: ltr\">Summer 2010 Issue 90EvEnts CalEndar (unless otherwise noted, all events are at the Edwin Ritchie Observatory, Battle Point Park) Calendar con't page 2 Quarterly www.bpastro.org Bainbridge Island, WA CALENDAR NOTES: As usual, we've been deprived of clear sky viewing opportunities this winter and spring—all the more reason to start planning for the regional \n<mark class=\"entity\" style=\"background: #ddd; padding: 0.45em 0.6em; margin: 0 0.25em; line-height: 1; border-radius: 0.35em;\">\n    dark sky\n    <span style=\"font-size: 0.8em; font-weight: bold; line-height: 1; border-radius: 0.35em; text-transform: uppercase; vertical-align: middle; margin-left: 0.5rem\">AstroTerm</span>\n</mark>\n star parties. The Mount Bachelor Star Party dates are July 15–18: www.mbsp.org. The Table Mountain Star Party and the Oregon Star Party overlap this year, so take your pick. TMSP, held August 12–14, is closer, but the skies are not so dark. Also, you need to register early for this star party because attendance is limited: www.tmspa.com. The Oregon Star Party, featuring the darkest skies of the three, is August 11–15. The OSP always has a good speaker program, nightly sky tours, and a renowned telescope walkabout: www.oregonstarparty.org. If you can't attend regional star parties, the summer sky still offers plenty of good viewing. An article in the June 2010 Sky and Telescope (p. 40) describes the opportunities available, even in light polluted areas, on June evenings. Four first magnitude stars are visible near the ecliptic, Antares, Spica, Regulus, and Pollux, plus three bright planets, Venus, Mars, and Saturn, along with the bright stars of the Summer Triangle, Vega, Deneb and Altair, and in the west, Arcturus. Another bonus in June: Ceres, an asteroid large enough to achieve dwarf planet status, will be visible, reaching opposition on June 18 at magnitude 7.2. And on June 26 all but the final stages of a partial lunar eclipse will be visible from the western U.S., just before dawn. Mars and Saturn will make a joint appearance on July 30, 1.8 degrees apart. The Perseids meteor shower peaks August twelfth. The Perseids are reliable, better of course from a dark sky site like the Oregon Star Party, but visible from local venues as well. The monthly planetarium shows will continue through the summer, and if the weather cooperates, be paired with star parties. Note the times for the shows: 9:00 p.m. in June and July, 8:30 p.m. in August. Should the weather be uncooperative, don't despair. You can now bring the Shining Summer Sights con't page 2 JUNE June 2 BPAA Board Meeting 7 p.m. June 3 45th Anniversary (1965), Gemini 4 Launch, U.S.'s First Space walk June 4  June 5 9:00 p.m. Planetarium Show &quot;The Dwarfs and the Seven Planets,&quot; and Star Party June 6 John Rudolf Memorial Planetarium Fund Kiwanis Brunch, Wing Point June 12  Members Meeting 7:30 p.m. (subject to cancellation; check www.bpastro.org and bpaa@yahoogroups.com) June 19  Sundial Workshop 1:00–3:00 p.m. June 21 Summer Solstice 4:28 a.m. PDT June 26  Partial Lunar Eclipse JULY July 4  Grand Old Fourth in Winslow; John Rudolph Memorial Planetarium Fund Kiwanis Brunch, Wing Point July 7 BPAA Board Meeting 7 p.m. July 10 9:00 p.m. Planetarium Show and Star Party July 11  July 15–18 Mt. Bachelor Star Party www.mbsp.org Ceres courtesy NASA Th e Sum m er Triangle 2–Summer 2010Quarterly CALENDAR, con't from p.1 Any member who is planning to observe can invite others to join in by sending an email to bpaa@yahoogroups.com. To join our email group, send an email with your name to bpaa-owner@yahoogroups.com and we can enroll you. If you want to have web access to the messages and files, you can join the Yahoogroups by clicking the register link for new users on http://groups.yahoo.com/. Request to join at http://groups.yahoo.com/group/bpaa/.The sys-tem will send us a message, and we'll approve your request after we verify your membership. universe into your home, courtesy of a company that recreates the night sky of your choice on your very own ceiling. I'm not making this up (nor am I endorsing the product): check it out at www.nightskymurals.com. According to the Web site, &quot;the heavens are yours to keep.&quot; Imagine that. —Diane Colvin, BPAA Events Manager July 17 Members Meeting 7:30 p.m. (subject to cancellation; check www.bpastro.org and bpaa@yahoogroups.com) July 18  July 25  AUGUST August 1 John Rudolf Memorial Planetarium Fund Kiwanis Brunch, Wing Point August 2  August 7 Members Meeting 7:30 p.m. (subject to cancellation; check www.bpastro.org and bpaa@yahoogroups.com) August 9  August 10 Deadline for Fall issue of BPAA Newsletter August 11–15 Oregon Star Party www.oregonstarparty.org August 12 Perseids Meteor Shower Peak August 12–14 Table Mountain Star Party www.tmspa.com August 14 8:30 p.m. Planetarium Show and Star Party August 16  August 20 Neptune at Opposition August 24  PRESIDENT'S MESSAGE: In the last &quot;President's Message,&quot; Harry announced his intention to step down. I am honored to have been asked to assume the role of President. The first thing I would like to do is thank Harry for his years of service. Harry was drafted to be president in a tumultuous period. Harry, along with George McCullough and a few others, gave the organization new structure and purpose. During the past three years, Harry has poured his heart and soul into the organization. He has defined a vision and focused on the education of future generations. Harry is off to do some travelling and visit his grand kids. On behalf of the club, I wish Harry clear skies and following seas. One of the perks of this role is that I get to write a column for each newsletter with my choice of topic, slant, and view of the universe. Basically, I get a soapbox. Unfortunately for this particular column, the time between when I was elected and the deadline was short. I prefer a little more time to think about what I am writing. So this column is more about a vision than concrete plans. During my tenure, I will make a concerted effort to provide a sounding board for members. I want to hear your particular astronomy interests, concerns, and enthusiasms. Give me your take on the universe. Feel free to email me with comments, questions or remarks at president@bpastro.org. No guarantee on an answer for every email but I do promise to read them all. I have some ideas about extending communication through other channels. We will see how this develops. In my previous role as Education Director, I stated my belief that education is the most important thing our organization does. It does not matter if it is education of primary or secondary students, members, or the general public. I believe that science education is more important than ever. When confronted with decisions that have serious consequences for ourselves and our children, an informed opinion is a powerful tool. If we can make rational decisions based on facts, as opposed to the emotion of the day, I believe our future will be better. I see the BPAA increasing its role in community science education. Astronomy provides the most fundamental understanding of human existence. Every molecule of the human body has a piece that is the result of a stellar furnace. As Carl Sagan said, &quot;We are all made of star stuff.&quot; —Stephen Ruhl &quot;We are all made of star stuff.&quot; What's the Universe to You? 3–Summer 2010Quarterly BPAA has been working with local artist and club member Dave Berfield to create a &quot;solar walk&quot;—a scale model of the solar system—in Battle Point Park. Glazed enamel images on metal signs will represent each planet and be placed according to their average distance from the sun on a mile-long path. We've printed a &quot;semi-final&quot; full-scale example of our first 11&quot;x 15&quot; Solar Walk plaque on heavy paper. It will be on display at the Observatory during our monthly star parties. This will determine the design of the others, so if you have comments, be sure to get them to Russell Heglund at 206-842-8758 or rmheglund@yahoo.com. When we have all ten completed, we will finalize the format and create the signs. —Russell M. Heglund Sundial Workshop June 19 at the Ritchie The BPAA will conduct a Sundial Workshop on Saturday, June 19 from 1:00–3:00 p.m. at the Ritchie Observatory in Battle Point Park. We will start with a short history of sundials around the world, followed by descriptions and demonstrations of how to build a sundial of your own for yard or house. We'll provide handouts describing plans for classic wall dials and horizontal dials. For more information call Russ at 206.842.8758 or email rmheglund@ yahoo.com. Workshop limited to 20 people.—Russell M. Heglund First Solar Walk Plaque Grand Old Fourth in Winslow You are Here As usual, BPAA will be running a booth during the 4th of July celebration in Winslow. It's an excellent chance for new members to rub elbows with BPAA board members and share their enthusiasm for astronomy with the public. We'll have solar telescopes on hand for sidewalk astronomy, as well as brochures, membership applications, and a wealth of knowledge. Members interested in volunteering for the booth should call Steve at 206.855.7883 or email president@bpastro.org. Anyone with an interest in astronomy should pay our booth a visit. We should be in our traditional spot south of the T&amp;C parking lot. 4–Summer 2010Quarterly The new club-built 20&quot; Dobsonian telescope draws oohs and ahhs at our monthly star parties for its impressive size, wonderful views, and beautiful woodwork. But for telescope geeks, especially amateur telescope makers, much of the telescope's beauty lies hidden. There are several unique features built into this telescope: in this article we'll look into the heart of a Dobsonian telescope, the mirror cell. The mirror cell allows small adjustments in the tilt of the primary mirror that sits on top of it. The primary mirror has a concave surface which bounces light rays from the sky inward to create a cone of light that forms a disk image. A flat piece of oval glass, called the secondary mirror, suspended directly above the primary mirror and held at a 45° angle, bounces the cone of light sideways into the focuser where the disk image can be viewed with an eyepiece. In order to get clean, crisp images the optical axis of this cone must be adjusted so it creates a line that hits the center of the secondary mirror and passes exactly through the middle of the focuser in a process called collimation. Many ingenious systems have been created to help support primary mirrors. Invariably these systems end up being attached to three bolts that pass through the bottom of the mirror cell. The bolts are positioned so that the attached support systems distribute stresses equally throughout the mirror, and their positions are always unique to that particular mirror. Traditionally, Dob builders determine these positions, then construct the mirror cell and drill and tap the bolt holes. After they attach the support systems to the ends of the bolts and fix the primary mirror on the supports, they can adjust the tilt of the mirror by turning the bolts in a push/pull action. Most owners of Dobs will tell you that it's inconvenient to have to collimate from the bottom, especially with larger telescopes. Newer BPAA's Innovative Mirror Cell inventions like laser collimators make the process easier, but those who use collimating devices that require peering through the focuser must make frequent, reiterative trips back and forth from the focuser to the bottom of the mirror box. The job is easier with two people, one at the focuser giving instructions and one below turning the bolts, but communication over which bolt to turn and in which direction can be frustrating. The ultimate in fine collimation uses a high-powered eyepiece defocused on a star. In this process a star is centered in the field of view and then defocused so that you can see the shadow of the secondary mirror. If the defocused image of the star is centered in the field of view and the shadow of the secondary mirror is centered in the blurry image of the star then you know your telescope is well collimated. If not then you use an iterative process to adjust the primary mirror until it is, which can be frustrating. When BPAA members set out to design the new 20&quot; Dob, Steve Ruhl, Malcolm Saunders, David Browning, Dan Caster, Harry Colvin, and I held a brainstorming session on ways to collimate the primary mirror from the top of the mirror box and, ideally, while still looking through the eyepiece. A recent article in Sky &amp; Telescope featured just such a collimation system using electric motors to turn the bolts, controlled by three toggle switches mounted on the focuser board. It was a nice idea but we didn't want to commit ourselves to technology that, when malfunctioning, might leave us with an uncollimated telescope at a remote site far from an electronic parts store. We wanted something C A B Photo #1: BPAA's new mirror cell 5–Summer 2010Quarterly that was as manual as the Dobsonian itself. We came up with a mirror cell design that fit all of our requirements and, as far as we know, is the first of its kind in the amateur telescope community. Our mirror cell, made from 1&quot; square metal tubing, is shaped like a &quot;Y&quot; with the single leg supported on one bolt and the other two legs suspended by hex head bolts with upward-pointing heads. Extenders connect to these bolts and emerge at the top of the mirror box with two more hex head screws. Finally, rods (for now, prototyped with bamboo poles) with hex head wrenches attached to their tips mate with the hex heads at the top of the mirror box and are lashed to adjoining truss poles. In this way we can adjust the collimation of the primary mirror while standing on the ground and, better yet, because of the bamboo poles, while viewing through the eyepiece. We used the software program PLOP to determine the positions for the three mirror support bolts as well as the size and shape for the 1/2&quot; aluminum plates that make up the 21-point support system. The bolt that supports the mirror at point A in photo #1 (p.4) is fixed, permanently mounted to a metal tab welded to the bottom of a support bar, also made from 1&quot; square steel tubing, that spans the width of the mirror box and is screwed to its sides as shown in photo #2. The support bolts at B and C in photo #1 are also fixed in height relative to the mirror cell arms, but those arms move up or down to collimate the mirror. In essence we're adjusting the tilt of the mirror by moving the mirror cell up and down, as opposed to the traditional method where the mirror cell is fixed in place and the support bolts move the mirror. We figured out the final shape of the &quot;Y&quot; by first determining the position of the three main support bolts using PLOP. This told us where point A should be relative to the mirror box and where we should place the support bar. It also told us where points B and C should be relative to the mirror box, and once we determined the position of the adjustment bolts in the corners of the mirror box, it was a simple matter to run a line through those points to figure out the actual angles of our &quot;Y&quot;. We transferred the measurements to a piece of plywood and made a jig that club member and master welder Dan Caster then used to make our finished mirror cell. Photo #3 shows the two adjustable legs of the mirror cell supported by stainless steel hex head bolts running through brass bushings inset into the corner gussets. The heads of the stainless steel bolts pressing against the brass bushings creates relatively little friction and movement is very smooth. We extended the bottom bolt to the bolt in the top corner gusset via a hodgepodge combination of 1/4&quot; aluminum tubing, 1/4&quot; drip system tubing and a length of coiled spring steel cut from an old plumber's snake, but it all works, and adjustment is very easy and smooth. Photo #4 shows the bamboo poles used to remotely to turn the hex bolts while viewing through the eyepiece. As mentioned earlier this part is still in its prototype stage to figure out final lengths and potential bugs. We'll probably replace the bamboo with appropriately-sized fishing pole blanks. We also need to figure out some way to hold the rods away from the aluminum truss poles: now it's hard to get your fingers around the rods to turn them. Overall the design is a real pleasure to use. At our last star party rough collimation took about five minutes once the scope was set up, and all without having to kneel on the ground. Later in the evening, once the primary mirror had cooled to ambient air temperature and it was apparent that the seeing conditions were very good, collimation using a defocused star took just a few minutes and gave us wonderful views of Saturn and four of its moons. It's a design that other amateur telescope makers should consider using, and improving, when building their next telescopes. —Doug Tanaka Photo # 2: support bar Photo #3: adjustable legs All photos by Doug Tanaka Photo #4: bamboo poles 6–Summer 2010Quarterly Measuring the Earth with a Hole in the Ground, the Moon with a Fingernail... Astronomy 0.001 SEEING STARS: So, how did people figure out the circumference of the Earth two millennia ago, without stretching a tape measure around it? And where did that knowledge take them—and us? In a spring a goodly number of years back two men were working on the same general question about the sizes and the distances of things beyond the Earth. One was Eratosthenes (276 BCE–194 BCE). Eratosthenes was originally from Cyrene (now Shahhat) on the coast of Libya. The other was Aristarchus (c. 310 BCE- 230 BCE). Aristarchus came from the island of Samos; for a while he studied in Alexandria. Not much else is known about him. They both spoke Greek, and since their years overlapped they may have been acquainted. To start, those first geographer/mathematicians had to make assumptions: 1. The Earth is a round ball. (It is, more or less.) 2. The Sun's rays, wherever they are observed on Earth, are parallel to each other. (This requires a further assumption: that the Sun is so distant that its rays are practically parallel when they reach Earth.) They also needed a method for dividing a circle. Fortunately the Acadian-Babylonians had devised the system of dividing circles into 360 equal degrees around 2000 BCE. Next they had to add some theorems about triangles and circles and make a few small measurements. Eratosthenes lived in Alexandria at the mouth of the Nile, home of one of the great libraries of the ancient world; he became its director around 240 BCE. He was known as a mathematician, poet, astronomer, and as the first geographer. Naturally he was interested in the true size of the Earth. He conceived of the idea that by using a combination of angles and stadia (a Roman unit of measuring distance) he might be able to calculate it. Eratosthenes based his calculations on a few more assumptions and observations: 1. Alexandria was due north of Syene (now Aswan), a city also on the Nile. (The river didn't flow in a straight line.) 2. The measurement of the distance between Syene and Alexandria was accurate. (It was probably based on the estimated average speed of camel caravans.) 3. The Sun was directly above a deep well in Syene at noon on the summer solstice—at an angle of 90°, or perpendicular to the Earth. 4. The angle of the shadow that the Sun cast in Alexandria was measurably different from that in Syene. So, on the solstice about 2,250 years ago this June, Eratosthenes set up a perpendicular stick in Alexandria and found the angle of the shadow there to be not 90° but 82.8°. The difference of the angle of the sun between Syene and Alexandria /360°= distance to Syene/ circumference of the Earth. Eratosthenes' mathematics showed him that the Earth's circumference was 252,000 stadia. We like to believe that his figures came within 1% of the presently accepted measurement of 24,859.82 miles for the Earth's circumference. However he may have D raw ing courtesy Benutzer Erzbischof Photo courtesy H ellenica W eb site A deep well in Syene 7–Summer 2010Quarterly been way off; his number, of course, is dependent on the value of the Roman stadion, which we don't know for sure. (For more on his method, see http://www.juliantrubin.com/bigten/ eratosthenes.html ) What's more important is that Eratosthenes understood the hitherto unrealized relation between the facts that he knew and the one he wanted to know. By dividing the circumference of the Earth by 3 (he didn't have the more precise figure for π that we use now) he found the diameter of the Earth, and from that the radius. That led him to his next question: How big is the Moon? The size of the Moon relative to that of the Sun had been puzzled out by Aristarchus a few years earlier. Since the Moon got between the Earth and the Sun in a solar eclipse it had to be closer to the Earth. Aristarchus had timed the Moon's movement through the Earth's shadow in a total lunar eclipse and found that the shadow was 8/3 bigger than the Moon. He also had seen that the apparent angular size (the size of the objects as they appear to an observer on Earth, compared to 360° of sky) of the Moon and that of the Sun were the same. (That's why the moon just covers the sun during a solar eclipse.) He measured that angle to be ½ °. Then he saw that when the Moon was a quarter full it made a right angle between the Earth and the Sun. (His reasoning and mathematics were flawless, but he had a problem determining the exact time of the quarter moon.) He knew that by determining one of the other angles of the right triangle—the angle between the sun and the earth during the quarter moon—he could find the ratio of the distances of the sun and the moon by geometrical analysis. For more on his method, see http://en.wikipedia.org/wiki/ Aristarchus_On_the_Sizes_and_ Distances. His mathematics led him to think that the Sun was between 18 and 20 times larger than the Moon. Eratosthenes also measured the time it took the Moon to go through the shadow of the Earth during a total lunar eclipse. He started timing when the Moon was first shadowed by the Earth, recorded how long it was totally eclipsed and when the eclipse ended. His figures were 200 minutes for the whole passage, and 50 minutes for totality. (Unfortunately he didn't have access to an atomic clock.) He calculated that the Moon was about a fourth the size of the Earth. Next he measured the angular size of his thumbnail, which just covered the moon when he held it straight out, and compared that with the distance from his eye to his nail, giving him the answer that the width of his nail was 100 times smaller than that distance between his eye and his nail. Now that he had an estimate for the diameter of the moon, he could use it to figure the distance between the Earth and the moon. (Fingernail width/distance between fingernail and eye=Moon diameter/distance between Earth and Moon.) It came out to be about 1,920 miles away. Like Aristarchus, his reasoning was right. Even though his figures were way too small, he had discovered that the distance was greater than anyone had thought possible. Eratosthenes didn't stop there. He wanted to know how far it was to the Sun. Does this sound familiar? From the Sun to the planets. From the planets to the stars. From the stars to the.... Where next? We sometimes forget that we relate what we measure out in space to the size of the Earth. An Astronomical Unit (AU) is the mean distance between the Earth and the Sun over one Earth orbit. And that distance leads us back to a hole in the ground in Egypt, and to the geographer/mathematicians who put angles and distances together and first took the measure of the Earth and the Moon.—Anna Edmonds References: Kolb, Rocky, Blind Watchers of the Sky: the people and ideas that shaped our view of the universe, Persues Publishing 1996 Internet sites on Eratosthenes and Aristarchus Moon eclipse montage © BPAA member David Warman, 2008 8–Summer 2010Quarterly Continued Adventures in Backyard Astrophotography Astrophotography this spring has been a study in frustration with the clouds, but I did manage to get in several good nights. Some of the results are below and to the right. I used the same equipment as in my first adventure, reported in the BPAA Quarterly Spring 2010: Camera SBIG ST-8300M Scope Celestron C8 w/ f 6.3 Corrector/Reducer (effective focal length = 1260mm) Mount Losmandy G-11 Guide Scope Celestron 500mm F5.6 w/ Orion StarShooter Autoguider Guiding Software PHD Image Software Nebulosity 2, Deep Sky Stacker, Photoshop I am still waiting for my color filter wheel. As I write this, I have been informed that it is in the mail. The only problem is that the camera is in Santa Barbara being repaired. Hopefully, the camera will be back, the color wheel will arrive, the clouds will part and all will be well in the universe. Once I am back in business, I will be doing some experimentation with some new software, polar alignment techniques, and processing techniques. We will see what works and what does not. All photos are taken from my backyard on Bainbridge.—Stephen Ruhl Open cluster in Rosette Nebula NGC2244 The Cigar Galaxy M82 Spiral galaxy M63, the Sunflower Galaxy, in Canes Venatici Planetary nebula M97 in Ursa Major 9–Summer 2010Quarterly Spiral galaxy M108 in Ursa Major The Whirlpool Galaxy M51 and friends Spiral galaxy M81 The Pinwheel Galaxy M101 Note: The letters in the captions and photos stand for lists and catalogs of astronomical objects. 'M' stands for Messier object, 'NGC' is New General Catalog, and 'IC' means Index Catalog. For more information on the objects and lists, see http:// apod.nasa.gov/apod/messier.html, http://en.wikipedia.org/wiki/List_ of_Messier_objects, and http:// www.ngcicproject.org/default.htm 10–Summer 2010Quarterly In thIs Issue 1 Calendar &amp; Notes : Shining Sights 2 President's Message: What's the Universe to You? 6 Seeing Stars: A Hole in the Ground In BrIef 3 Sundial Workshop 3 Solar Walk 3 Fourth of July ArtIcles 4 BPAA's Innovative Mirror Cell 8 Continued Adventures in Backyard Astrophotography BATTLE POINT ASTRONOMICAL ASSOCIATION 206.842.9152 http://www.bpastro.org/ Ritchie Observatory, Battle Point Park P.O. Box 10914, Bainbridge Island, WA 98110 Officers Stephen Ruhl, President 206.855.7883,president@bpastro.org Mike Browning, Vice President 206.861.1630, bjjm@qwest.net Russell M. Heglund, Secretary 206.842.8758, rmheglund@yahoo.com Frank Schroer, Treasurer 206.842.1974, frank@schroer.net Nels Johansen, Facilities Officer 206.842.7968 Stephen Ruhl, Education Officer (acting), education@bpastro.org Malcolm Saunders, Chief Astronomer 206.780.1905, astronomer@bpastro.org Founders Edward M. (Mac) Gardiner,President Emeritus 206.842.3717, macg@bainbridge.net Ed Ritchie, Chief Astronomer 1993–1997 John H. Rudolph, Facility Director 1993–2003 BPAA Quarterly is a publication of the Battle Point Astronomical Association. Submissions due on the 10th of the month before the quarter begins: quarters begin December, March, June, and September. Query newsletter@bpastro.org. Send graphics as separate files. Newsletter Editor Vicki Saunders. BPAA would like to thank for their generous support Battle Point Astronomical Association P. O. Box 10914 Bainbridge Island, WA 98110 </div></span>"
     },
     "metadata": {}
    }
   ],
   "source": [
    "displacy.render(doc, style=\"ent\")\n",
    "# test.read()\n",
    "# [(t.text, t.ent_type_, t.ent_iob) for t in doc]"
   ]
  },
  {
   "cell_type": "code",
   "execution_count": 74,
   "metadata": {},
   "outputs": [
    {
     "output_type": "error",
     "ename": "AttributeError",
     "evalue": "'NoneType' object has no attribute 'start_char'",
     "traceback": [
      "\u001b[1;31m---------------------------------------------------------------------------\u001b[0m",
      "\u001b[1;31mAttributeError\u001b[0m                            Traceback (most recent call last)",
      "\u001b[1;32m<ipython-input-74-e68e1ada4ddc>\u001b[0m in \u001b[0;36m<module>\u001b[1;34m\u001b[0m\n\u001b[1;32m----> 1\u001b[1;33m \u001b[0mmatches_test\u001b[0m \u001b[1;33m=\u001b[0m \u001b[0mmatcher\u001b[0m \u001b[1;33m(\u001b[0m\u001b[0mdoc\u001b[0m\u001b[1;33m)\u001b[0m\u001b[1;33m\u001b[0m\u001b[1;33m\u001b[0m\u001b[0m\n\u001b[0m",
      "\u001b[1;32mphrasematcher.pyx\u001b[0m in \u001b[0;36mspacy.matcher.phrasematcher.PhraseMatcher.__call__\u001b[1;34m()\u001b[0m\n",
      "\u001b[1;32m<ipython-input-9-039df1279612>\u001b[0m in \u001b[0;36mcollect_sents\u001b[1;34m(matcher, doc, i, matches)\u001b[0m\n\u001b[0;32m     10\u001b[0m     \u001b[1;31m# start and end of the sentence in the doc\u001b[0m\u001b[1;33m\u001b[0m\u001b[1;33m\u001b[0m\u001b[1;33m\u001b[0m\u001b[0m\n\u001b[0;32m     11\u001b[0m     match_ents = [{\n\u001b[1;32m---> 12\u001b[1;33m         \u001b[1;34m\"start\"\u001b[0m\u001b[1;33m:\u001b[0m \u001b[0mspan\u001b[0m\u001b[1;33m.\u001b[0m\u001b[0mstart_char\u001b[0m \u001b[1;33m-\u001b[0m \u001b[0msent\u001b[0m\u001b[1;33m.\u001b[0m\u001b[0mstart_char\u001b[0m\u001b[1;33m,\u001b[0m\u001b[1;33m\u001b[0m\u001b[1;33m\u001b[0m\u001b[0m\n\u001b[0m\u001b[0;32m     13\u001b[0m         \u001b[1;34m\"end\"\u001b[0m\u001b[1;33m:\u001b[0m \u001b[0mspan\u001b[0m\u001b[1;33m.\u001b[0m\u001b[0mend_char\u001b[0m \u001b[1;33m-\u001b[0m \u001b[0msent\u001b[0m\u001b[1;33m.\u001b[0m\u001b[0mstart_char\u001b[0m\u001b[1;33m,\u001b[0m\u001b[1;33m\u001b[0m\u001b[1;33m\u001b[0m\u001b[0m\n\u001b[0;32m     14\u001b[0m         \u001b[1;34m\"label\"\u001b[0m\u001b[1;33m:\u001b[0m \u001b[1;34m\"AstroTerm\"\u001b[0m\u001b[1;33m,\u001b[0m\u001b[1;33m\u001b[0m\u001b[1;33m\u001b[0m\u001b[0m\n",
      "\u001b[1;31mAttributeError\u001b[0m: 'NoneType' object has no attribute 'start_char'"
     ]
    }
   ],
   "source": [
    "# matches_test = matcher (doc)"
   ]
  },
  {
   "cell_type": "code",
   "execution_count": null,
   "metadata": {},
   "outputs": [],
   "source": []
  }
 ],
 "metadata": {
  "kernelspec": {
   "display_name": "Python 3",
   "language": "python",
   "name": "python3"
  },
  "language_info": {
   "codemirror_mode": {
    "name": "ipython",
    "version": 3
   },
   "file_extension": ".py",
   "mimetype": "text/x-python",
   "name": "python",
   "nbconvert_exporter": "python",
   "pygments_lexer": "ipython3",
   "version": "3.8.3-final"
  }
 },
 "nbformat": 4,
 "nbformat_minor": 2
}